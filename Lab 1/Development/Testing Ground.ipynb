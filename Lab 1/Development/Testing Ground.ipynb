{
 "cells": [
  {
   "cell_type": "code",
   "execution_count": 63,
   "metadata": {
    "collapsed": true
   },
   "outputs": [],
   "source": [
    "import matplotlib.pyplot as plt\n",
    "import numpy as np\n",
    "import pyaudio\n",
    "from pyqtgraph.Qt import QtGui, QtCore\n",
    "import pyqtgraph as pg\n",
    "import struct\n",
    "from scipy.fftpack import fft\n",
    "import sys\n",
    "import time\n",
    "import serial\n",
    "\n",
    "%matplotlib tk"
   ]
  },
  {
   "cell_type": "code",
   "execution_count": 164,
   "metadata": {
    "collapsed": true
   },
   "outputs": [],
   "source": [
    "class AudioStream(object):\n",
    "    def __init__(self):\n",
    "\n",
    "        # stream constants\n",
    "        self.CHUNK = 1024 * 4\n",
    "        self.FORMAT = pyaudio.paInt16\n",
    "        self.CHANNELS = 1\n",
    "        self.RATE = 44100\n",
    "        self.pause = False\n",
    "\n",
    "        # stream object\n",
    "        self.p = pyaudio.PyAudio()\n",
    "        self.stream = self.p.open(\n",
    "            format=self.FORMAT,\n",
    "            channels=self.CHANNELS,\n",
    "            rate=self.RATE,\n",
    "            input=True,\n",
    "            output=True,\n",
    "            frames_per_buffer=self.CHUNK,\n",
    "        )\n",
    "        self.init_plots()\n",
    "        self.start_plot()\n",
    "\n",
    "    def init_plots(self):\n",
    "\n",
    "        # x variables for plotting\n",
    "        x = np.arange(0, 2 * self.CHUNK, 2)\n",
    "        xf = np.linspace(0, self.RATE, self.CHUNK)\n",
    "\n",
    "        # create matplotlib figure and axes\n",
    "        self.fig, (ax1, ax2) = plt.subplots(2, figsize=(15, 7))\n",
    "        self.fig.canvas.mpl_connect('button_press_event', self.onClick)\n",
    "\n",
    "        # create a line object with random data\n",
    "        self.line, = ax1.plot(x, np.random.rand(self.CHUNK), '-', lw=2)\n",
    "\n",
    "        # create semilogx line for spectrum\n",
    "        self.line_fft, = ax2.plot(\n",
    "            xf, np.random.rand(self.CHUNK), '-', lw=2)\n",
    "\n",
    "        # format waveform axes\n",
    "        ax1.set_title('Audio Waveform and Spectrum')\n",
    "        ax1.set_xlabel('samples')\n",
    "        ax1.set_ylabel('volume')\n",
    "        ax1.set_ylim(0, 255)\n",
    "        ax1.set_xlim(0, 2 * self.CHUNK)\n",
    "        plt.setp(\n",
    "            ax1, yticks=[0, 128, 255],\n",
    "            xticks=[0, self.CHUNK, 2 * self.CHUNK],\n",
    "        )\n",
    "        plt.setp(ax2, yticks=[0, 1],)\n",
    "\n",
    "        # format spectrum axes\n",
    "        ax2.set_xlabel('freq (Hz)')\n",
    "        ax2.set_ylabel('Energy (normalized)')\n",
    "        ax2.set_xlim(20, 5e3)\n",
    "\n",
    "        # show axes\n",
    "        thismanager = plt.get_current_fig_manager()\n",
    "#         thismanager.window.setGeometry(5, 120, 1910, 1070)\n",
    "        plt.show(block=False)\n",
    "\n",
    "    def start_plot(self):\n",
    "\n",
    "        print('stream started')\n",
    "        frame_count = 0\n",
    "        start_time = time.time()\n",
    "        try:\n",
    "            while not self.pause:\n",
    "                data = self.stream.read(self.CHUNK)\n",
    "                print(type(data))\n",
    "                data_int = struct.unpack(str(2 * self.CHUNK) + 'B', data)\n",
    "                data_np = np.array(data_int, dtype='b')[::2] + 128\n",
    "\n",
    "                self.line.set_ydata(data_np)\n",
    "\n",
    "                # compute FFT and update line\n",
    "                yf = fft(data_int)\n",
    "                self.line_fft.set_ydata(\n",
    "                    np.abs(yf[0:self.CHUNK]) / (128 * self.CHUNK))\n",
    "\n",
    "                # update figure canvas\n",
    "                self.fig.canvas.draw()\n",
    "                self.fig.canvas.flush_events()\n",
    "                frame_count += 1\n",
    "        except:\n",
    "            self.fr = frame_count / (time.time() - start_time)\n",
    "            print('average frame rate = {:.0f} FPS'.format(self.fr))\n",
    "            self.exit_app()\n",
    "\n",
    "    def exit_app(self):\n",
    "        print('stream closed')\n",
    "        self.p.close(self.stream)\n",
    "\n",
    "    def onClick(self, event):\n",
    "        self.pause = True"
   ]
  },
  {
   "cell_type": "code",
   "execution_count": 165,
   "metadata": {},
   "outputs": [
    {
     "name": "stdout",
     "output_type": "stream",
     "text": [
      "stream started\n",
      "<class 'bytes'>\n",
      "<class 'bytes'>\n",
      "<class 'bytes'>\n",
      "<class 'bytes'>\n",
      "<class 'bytes'>\n",
      "<class 'bytes'>\n",
      "<class 'bytes'>\n",
      "<class 'bytes'>\n",
      "<class 'bytes'>\n",
      "<class 'bytes'>\n",
      "<class 'bytes'>\n",
      "<class 'bytes'>\n",
      "<class 'bytes'>\n",
      "<class 'bytes'>\n",
      "<class 'bytes'>\n",
      "<class 'bytes'>\n",
      "<class 'bytes'>\n",
      "<class 'bytes'>\n",
      "<class 'bytes'>\n",
      "<class 'bytes'>\n",
      "<class 'bytes'>\n",
      "<class 'bytes'>\n",
      "average frame rate = 8 FPS\n",
      "stream closed\n"
     ]
    },
    {
     "data": {
      "text/plain": [
       "<__main__.AudioStream at 0x192d9c95208>"
      ]
     },
     "execution_count": 165,
     "metadata": {},
     "output_type": "execute_result"
    }
   ],
   "source": [
    "AudioStream()"
   ]
  },
  {
   "cell_type": "code",
   "execution_count": 126,
   "metadata": {},
   "outputs": [],
   "source": [
    "ser = serial.Serial('COM12', 115200)\n",
    "\n",
    "class SerialStream(object):\n",
    "    def __init__(self):\n",
    "\n",
    "        # stream constants\n",
    "        self.CHUNK = 256\n",
    "        self.FORMAT = pyaudio.paInt16\n",
    "        self.CHANNELS = 1\n",
    "        self.RATE = 1000\n",
    "        self.pause = False\n",
    "\n",
    "        # stream object\n",
    "        self.p = pyaudio.PyAudio()\n",
    "        self.stream = self.p.open(\n",
    "            format=self.FORMAT,\n",
    "            channels=self.CHANNELS,\n",
    "            rate=self.RATE,\n",
    "            input=True,\n",
    "            output=True,\n",
    "            frames_per_buffer=self.CHUNK,\n",
    "        )\n",
    "        self.init_plots()\n",
    "        self.start_plot()\n",
    "\n",
    "    def init_plots(self):\n",
    "\n",
    "        # x variables for plotting\n",
    "        x = np.arange(0, 2 * self.CHUNK, 2)\n",
    "        xf = np.linspace(0, self.RATE, self.CHUNK)\n",
    "\n",
    "        # create matplotlib figure and axes\n",
    "        self.fig, (ax1, ax2) = plt.subplots(2, figsize=(15, 9))\n",
    "        self.fig.canvas.mpl_connect('button_press_event', self.onClick)\n",
    "\n",
    "        # create a line object with random data\n",
    "        self.line, = ax1.plot(x, np.random.rand(self.CHUNK), '-', lw=2)\n",
    "\n",
    "        # create semilogx line for spectrum\n",
    "        self.line_fft, = ax2.semilogx(\n",
    "            xf, np.random.rand(self.CHUNK), '-', lw=2)\n",
    "        \n",
    "\n",
    "        # format waveform axes\n",
    "        ax1.set_title('AUDIO WAVEFORM')\n",
    "        ax1.set_xlabel('samples')\n",
    "        ax1.set_ylabel('volume')\n",
    "        ax1.set_ylim(0, 3000)\n",
    "        ax1.set_xlim(0, 2 * self.CHUNK)\n",
    "        plt.setp(\n",
    "            ax1, yticks=[0, 128, 255],\n",
    "            xticks=[0, self.CHUNK, 2 * self.CHUNK],\n",
    "        )\n",
    "        plt.setp(ax2, yticks=[0, 1],)\n",
    "\n",
    "        # format spectrum axes\n",
    "        ax2.set_xlim(20, self.RATE / 2)\n",
    "\n",
    "        # show axes\n",
    "        thismanager = plt.get_current_fig_manager()\n",
    "#         thismanager.window.setGeometry(5, 120, 1910, 1070)\n",
    "        plt.show(block=False)\n",
    "\n",
    "    def start_plot(self):\n",
    "\n",
    "        print('stream started')\n",
    "        frame_count = 0\n",
    "        start_time = time.time()\n",
    "        try:\n",
    "            while not self.pause:\n",
    "                data = self.sample(self.CHUNK)\n",
    "                data_int = data\n",
    "                data_np = data\n",
    "\n",
    "                self.line.set_ydata(data_np)\n",
    "\n",
    "                # compute FFT and update line\n",
    "                yf = fft(data_int)\n",
    "                self.line_fft.set_ydata(\n",
    "                    np.abs(yf[0:self.CHUNK]) / (128 * self.CHUNK))\n",
    "\n",
    "                # update figure canvas\n",
    "                self.fig.canvas.draw()\n",
    "                self.fig.canvas.flush_events()\n",
    "                frame_count += 1\n",
    "        except:\n",
    "            self.fr = frame_count / (time.time() - start_time)\n",
    "            ser.close()\n",
    "            print('average frame rate = {:.0f} FPS'.format(self.fr))\n",
    "            self.exit_app()\n",
    "\n",
    "    def exit_app(self):\n",
    "        print('stream closed')\n",
    "        self.p.close(self.stream)\n",
    "\n",
    "    def onClick(self, event):\n",
    "        self.pause = True\n",
    "    \n",
    "    def sample(self, size):\n",
    "        i = 0\n",
    "        data = []\n",
    "        while i < size:\n",
    "            data.append(int(ser.readline()))\n",
    "            i += 1\n",
    "        return data"
   ]
  },
  {
   "cell_type": "code",
   "execution_count": 146,
   "metadata": {},
   "outputs": [],
   "source": [
    "ser = serial.Serial('COM11', 115200)"
   ]
  },
  {
   "cell_type": "code",
   "execution_count": 214,
   "metadata": {},
   "outputs": [],
   "source": [
    "def sample():\n",
    "    i = 0\n",
    "    data = []\n",
    "    while i < 256:\n",
    "        data.append(try_float(ser.readline().decode(\"utf-8\", \"ignore\").strip('\\n').strip('\\r')))\n",
    "        i += 1\n",
    "    return data\n",
    "\n",
    "def try_float(s):\n",
    "    try:\n",
    "        return float(s)\n",
    "    except:\n",
    "        return 0"
   ]
  },
  {
   "cell_type": "code",
   "execution_count": 167,
   "metadata": {
    "collapsed": true
   },
   "outputs": [],
   "source": [
    "ser.close()"
   ]
  },
  {
   "cell_type": "code",
   "execution_count": 216,
   "metadata": {},
   "outputs": [
    {
     "name": "stdout",
     "output_type": "stream",
     "text": [
      "invalid command name \".\"\n"
     ]
    }
   ],
   "source": [
    "ser = serial.Serial('COM11', 115200)\n",
    "fig, (ax1, ax2) = plt.subplots(2, figsize=(15, 7))\n",
    "x = np.arange(0, 256)\n",
    "x_fft = np.linspace(0, 1000, 256)\n",
    "line, = ax1.plot(x, np.random.rand(256), '-', lw=2)\n",
    "line_fft, = ax2.plot(x_fft, np.random.rand(256), '-', lw=2)\n",
    "ax1.set_ylim(0, 2)\n",
    "ax1.set_xlim(0, 255)\n",
    "ax2.set_ylim(0, 0.5)\n",
    "ax2.set_xlim(10, 500)\n",
    "try:\n",
    "    while True:\n",
    "        data = np.array(sample())\n",
    "        line.set_ydata(data)\n",
    "        y_fft = fft(data)\n",
    "        line_fft.set_ydata(np.abs(y_fft)[0:256] * 2/256)\n",
    "        fig.canvas.draw()\n",
    "        fig.canvas.flush_events()\n",
    "except Exception as e:\n",
    "    print(e)\n",
    "    ser.close()"
   ]
  },
  {
   "cell_type": "code",
   "execution_count": 193,
   "metadata": {},
   "outputs": [
    {
     "name": "stdout",
     "output_type": "stream",
     "text": [
      "[0.78, 0.71, 0, 0.53, 0.59, 0.69, 0.77, 0.8, 0.75, 0.65, 0.56, 0.53, 0.57, 0.66, 0.75, 0.8, 0.77, 0.68, 0.59, 0.53, 0.55, 0.63, 0.73, 0.79, 0.78, 0.72, 0.62, 0.54, 0.54, 0.6, 0.7, 0.78, 0.79, 0.74, 0.64, 0.56, 0.53, 0.58, 0.67, 0.76, 0.8, 0.76, 0.67, 0.57, 0.53, 0.56, 0.65, 0.74, 0.8, 0.78, 0.7, 0.6, 0.53, 0.54, 0.62, 0.72, 0.79, 0.79, 0.72, 0.62, 0.54, 0.53, 0.6, 0.7, 0.78, 0.79, 0.74, 0.64, 0.56, 0.53, 0.58, 0.67, 0.76, 0.8, 0.76, 0.67, 0.58, 0.53, 0.56, 0.65, 0.74, 0.8, 0.78, 0.7, 0.6, 0.53, 0.54, 0.62, 0.72, 0.79, 0.79, 0.72, 0.62, 0.54, 0.53, 0.6, 0.7, 0.78, 0.79, 0.74, 0.65, 0.56, 0.53, 0.58, 0.67, 0.76, 0.8, 0.76, 0.67, 0.58, 0.53, 0.56, 0.64, 0.74, 0.79, 0.78, 0.7, 0.6, 0.54, 0.54, 0.62, 0.72, 0.79, 0.79, 0.73, 0.63, 0.55, 0.53, 0.59, 0.69, 0.77, 0.8, 0.75, 0.65, 0.56, 0.53, 0.57, 0.66, 0.76, 0.8, 0.76, 0.68, 0.58, 0.53, 0.55, 0.63, 0.73, 0.79, 0.78, 0.71, 0.61, 0.54, 0.54, 0.61, 0.71, 0.78, 0.79, 0.73, 0.64, 0.55, 0.53, 0.58, 0.68, 0.76, 0.8, 0.76, 0.67, 0.57, 0.53, 0.56, 0.65, 0.74, 0.79, 0.78, 0.7, 0.6, 0.53, 0.54, 0.62, 0.72, 0.79, 0.79, 0.72, 0.63, 0.55, 0.53, 0.59, 0.69, 0.77, 0.8, 0.75, 0.65, 0.56, 0.53, 0.57, 0.66, 0.75, 0.8, 0.76, 0.68, 0.58, 0.53, 0.56, 0.64, 0.74, 0.79, 0.78, 0.7, 0.6, 0.53, 0.54, 0.63, 0.72, 0.79, 0.79, 0.72, 0.62, 0.54, 0.54, 0.61, 0.71, 0.78, 0.79, 0.73, 0.63, 0.55, 0.53, 0.59, 0.69, 0.77, 0.8, 0.75, 0.65, 0.56, 0.53, 0.57, 0.67, 0.76, 0.8, 0.76, 0.67, 0.58, 0.53, 0.56, 0.65, 0.74, 0.8, 0.77, 0.69, 0.59, 0.53, 0.55, 0.63, 0.73, 0.79, 0.78]\n"
     ]
    }
   ],
   "source": [
    "ser.close()\n",
    "ser = serial.Serial('COM11', 115200)\n",
    "data = sample()\n",
    "print(data)\n",
    "ser.close()"
   ]
  },
  {
   "cell_type": "code",
   "execution_count": 212,
   "metadata": {},
   "outputs": [
    {
     "data": {
      "text/plain": [
       "[<matplotlib.lines.Line2D at 0x192d9be4320>]"
      ]
     },
     "execution_count": 212,
     "metadata": {},
     "output_type": "execute_result"
    }
   ],
   "source": [
    "y_fft = fft(data)\n",
    "sp_data = np.abs(y_fft)[0:128//2] * 2/256\n",
    "plt.plot(sp_data)"
   ]
  },
  {
   "cell_type": "code",
   "execution_count": 213,
   "metadata": {},
   "outputs": [
    {
     "data": {
      "text/plain": [
       "array([   0.        ,    3.93700787,    7.87401575,   11.81102362,\n",
       "         15.7480315 ,   19.68503937,   23.62204724,   27.55905512,\n",
       "         31.49606299,   35.43307087,   39.37007874,   43.30708661,\n",
       "         47.24409449,   51.18110236,   55.11811024,   59.05511811,\n",
       "         62.99212598,   66.92913386,   70.86614173,   74.80314961,\n",
       "         78.74015748,   82.67716535,   86.61417323,   90.5511811 ,\n",
       "         94.48818898,   98.42519685,  102.36220472,  106.2992126 ,\n",
       "        110.23622047,  114.17322835,  118.11023622,  122.04724409,\n",
       "        125.98425197,  129.92125984,  133.85826772,  137.79527559,\n",
       "        141.73228346,  145.66929134,  149.60629921,  153.54330709,\n",
       "        157.48031496,  161.41732283,  165.35433071,  169.29133858,\n",
       "        173.22834646,  177.16535433,  181.1023622 ,  185.03937008,\n",
       "        188.97637795,  192.91338583,  196.8503937 ,  200.78740157,\n",
       "        204.72440945,  208.66141732,  212.5984252 ,  216.53543307,\n",
       "        220.47244094,  224.40944882,  228.34645669,  232.28346457,\n",
       "        236.22047244,  240.15748031,  244.09448819,  248.03149606,\n",
       "        251.96850394,  255.90551181,  259.84251969,  263.77952756,\n",
       "        267.71653543,  271.65354331,  275.59055118,  279.52755906,\n",
       "        283.46456693,  287.4015748 ,  291.33858268,  295.27559055,\n",
       "        299.21259843,  303.1496063 ,  307.08661417,  311.02362205,\n",
       "        314.96062992,  318.8976378 ,  322.83464567,  326.77165354,\n",
       "        330.70866142,  334.64566929,  338.58267717,  342.51968504,\n",
       "        346.45669291,  350.39370079,  354.33070866,  358.26771654,\n",
       "        362.20472441,  366.14173228,  370.07874016,  374.01574803,\n",
       "        377.95275591,  381.88976378,  385.82677165,  389.76377953,\n",
       "        393.7007874 ,  397.63779528,  401.57480315,  405.51181102,\n",
       "        409.4488189 ,  413.38582677,  417.32283465,  421.25984252,\n",
       "        425.19685039,  429.13385827,  433.07086614,  437.00787402,\n",
       "        440.94488189,  444.88188976,  448.81889764,  452.75590551,\n",
       "        456.69291339,  460.62992126,  464.56692913,  468.50393701,\n",
       "        472.44094488,  476.37795276,  480.31496063,  484.2519685 ,\n",
       "        488.18897638,  492.12598425,  496.06299213,  500.        ])"
      ]
     },
     "execution_count": 213,
     "metadata": {},
     "output_type": "execute_result"
    }
   ],
   "source": [
    "np.linspace(0, 500, 128)"
   ]
  }
 ],
 "metadata": {
  "kernelspec": {
   "display_name": "Python 3",
   "language": "python",
   "name": "python3"
  },
  "language_info": {
   "codemirror_mode": {
    "name": "ipython",
    "version": 3
   },
   "file_extension": ".py",
   "mimetype": "text/x-python",
   "name": "python",
   "nbconvert_exporter": "python",
   "pygments_lexer": "ipython3",
   "version": "3.6.3"
  }
 },
 "nbformat": 4,
 "nbformat_minor": 2
}
