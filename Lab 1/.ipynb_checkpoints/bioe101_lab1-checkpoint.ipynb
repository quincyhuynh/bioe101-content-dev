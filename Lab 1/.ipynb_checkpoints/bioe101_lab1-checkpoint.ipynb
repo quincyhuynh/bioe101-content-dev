{
 "cells": [
  {
   "cell_type": "markdown",
   "metadata": {},
   "source": [
    "# BioE 101 Lab 1 - Electrical Test Equipment and Analog Circuit Filters\n",
    "\n",
    "## Objectives: ##\n",
    "<a id='objectives'></a>\n",
    "- Learn how to use an oscilloscope and function generator.<br>\n",
    "- Learn to use breadboard to build and test simple circuits like resistive voltage divider, and RC filter.<br>\n",
    "- Learn to analyze filters using an oscilloscope and function generator.\n",
    "\n",
    "## Lab Report ##\n",
    "Answer the questions in the lab procedure with your partner in in the cells provided directly below the question. Print the notebook as a pdf and submit on bCourses."
   ]
  },
  {
   "cell_type": "markdown",
   "metadata": {},
   "source": [
    "## Part 1. Setup\n",
    "- There should generally be 3 people per lab station.\n",
    "- You can get the electronic parts such as the resistors, capacitors, diodes, etc. from the supply bins near the cable rack.\n",
    "- Please keep all the lab equipment in lab only.\n",
    "- Before you leave the lab, make sure the power for all the equipment is switched off and please clean your station.\n"
   ]
  },
  {
   "cell_type": "markdown",
   "metadata": {},
   "source": [
    "## Part 2. Re-Introducing the Oscilloscope and Functional Generator\n",
    "<br></br>\n",
    "<center>\n",
    "<img src=\"http://inst.eecs.berkeley.edu/~ee16a/images/f_gen.png\" align=\"center\" style=\"height:200px\" />\n",
    "</center>\n",
    "<br></br>\n",
    "\n",
    "- The oscilloscope allows us to view electrical signals (voltages or currents).\n",
    "Sometimes, it is used in conjunction with a function generator to observe the effect\n",
    "that a test signal has at one or more point(s) in our circuit. \n",
    "This is very useful in\n",
    "determining, for example, the input/output characteristics (i.e. the transfer\n",
    "function) of an amplifier. \n",
    "Despite their age, these scopes are very powerful tools.\n",
    "These oscilloscopes are digital, meaning they convert the analog signals at their\n",
    "inputs into numeric waveforms with the sampling rate and scaling parameters that\n",
    "you specify. \n",
    "This offers some very important advantages over analog oscilloscopes\n",
    "of the old days.\n",
    "\n",
    "- The function generator allows us to apply test signals to our circuit such as sine\n",
    "waves, square waves, pulses, triangle waves, and even waveforms which we define\n",
    "ourselves (referred to as “arbitrary waveforms”). We can control frequency and\n",
    "amplitude, and we can even sweep through many frequencies/amplitudes in order\n",
    "to test our device with a range of conditions.\n",
    "\n",
    "- Take a good look at your oscilloscope and answer the following questions:"
   ]
  },
  {
   "cell_type": "markdown",
   "metadata": {},
   "source": [
    "<strong>Question 1:</strong> What is the bandwidth of this oscilloscope? What does that mean for the signals you will be able to observe with it? What would the sampling rate of the ADC inside the scope have to be in order to achieve this bandwidth?"
   ]
  },
  {
   "cell_type": "markdown",
   "metadata": {},
   "source": []
  },
  {
   "cell_type": "markdown",
   "metadata": {},
   "source": [
    "<strong>Question 2:</strong>\n",
    "What is the input impedance of this scope? Why would that matter?"
   ]
  },
  {
   "cell_type": "markdown",
   "metadata": {},
   "source": []
  },
  {
   "cell_type": "markdown",
   "metadata": {},
   "source": [
    "- Use the BNC cable to directly connect the output of the function generator to channel 1 of the oscilloscope. Make sure channel 1 is on and the scope is acquiring signals.\n",
    "\n",
    "- Set the function generator to a 100 Hz, 1V peak sine wave (2V peak-to-peak) with 0V offset. The BK Precision 4052 function generators uses peak-to-peak by default and the HP 8116A function generators  use peak by default. Turn on the output by pressing the “disable” button so the light goes off (for the HP 8116A function generators) or by pressing the output button so that the button lights up (for the BK Precision 4052 function generators).\n",
    "\n",
    "- Adjust the scope time and voltage scales to comfortably see several periods of the waveform. To do this, you will need to familiarize yourself with 3 controls:\n",
    "\n",
    "    - Volts/Div: This sets the Y scale of each channel (channel 1 and 2 are set independently). The current scale is in the upper left corner of the screen. A value of 500mV, for example, means that each horizontal line in the grid corresponds to 500mV.\n",
    "\n",
    "    - Time/Div: This sets the X scale of both channels (they must be the same). The current value is in the upper right corner of the screen. Note that as you “zoom out” on the waveform, the sampling rate drops.\n",
    "    \n",
    "    - Voltage Position: Each channel has an additional knob that lets you move the waveform up and down on the screen. This is useful when you want to display multiple waveforms.\n",
    "\n",
    "    - Trigger Source, Mode, and Level: The trigger is useful for synchronizing your display to the signal so it doesn’t scroll across your screen. Edge triggering (also called “normal” triggering) causes the display to refresh only when the signal crosses the threshold amplitude. You can trigger on either channel 1 or 2, and you can adjust the triggering threshold. You can also specify whether you want the signal to trigger on a low-high transition or a high-low transition. If “auto” is selected, the trigger values are ignored and the screen constantly refreshes. Auto triggering can be useful initially for setting up scope parameters. Try adjusting the trigger parameters and see what happens to your signal."
   ]
  },
  {
   "cell_type": "markdown",
   "metadata": {},
   "source": [
    "<strong>Question 3:</strong>\n",
    "What is (roughly) the largest and smallest voltage that you could observe with this scope (hint: try changing the volts/div knob to see the limits)? What is (roughly) the fastest and slowest frequency that you could observe with this scope?"
   ]
  },
  {
   "cell_type": "markdown",
   "metadata": {},
   "source": []
  },
  {
   "cell_type": "markdown",
   "metadata": {},
   "source": [
    "<strong>Question 4:</strong>\n",
    "What happens when you set the trigger to a voltage that your sine wave never reaches? (hint: set your trigger mode to normal, since auto will not let you do this)"
   ]
  },
  {
   "cell_type": "markdown",
   "metadata": {},
   "source": []
  },
  {
   "cell_type": "markdown",
   "metadata": {},
   "source": [
    "- Play with the function generator and see how the signal changes. Try changing the\n",
    "frequency, amplitude, offset, and waveform type (sine, square, triangle). When\n",
    "you’re done, set it back to 100 Hz, 1V sine.\n",
    "\n",
    "- Cursors are a handy way to measure signal voltages and timing on the oscilloscope.\n",
    "Pressing the “cursors” button will turn them on. Make sure the “Source” for the\n",
    "cursors is set to channel 1. Use the buttons below the screen to select which cursor\n",
    "you want to move and the knob near the cursor button to move the cursor. The\n",
    "positions and distances appear at the bottom of the screen. Using the cursors, verify\n",
    "that the amplitude is 1V and the period is 1/100 = 10ms."
   ]
  },
  {
   "cell_type": "markdown",
   "metadata": {},
   "source": [
    "<strong>Question 5:</strong>\n",
    "Is 1V the peak-to-peak amplitude, the RMS amplitude, or the peak amplitude?"
   ]
  },
  {
   "cell_type": "markdown",
   "metadata": {},
   "source": []
  },
  {
   "cell_type": "markdown",
   "metadata": {},
   "source": [
    "- You can also have the scope automatically measure voltage and timing parameters by pressing the Voltage/Time buttons under the “Measure” label. You can have it display 3 different quantities at a time. Try displaying the average voltage value, RMS voltage value, and frequency of your waveform. Make sure “Source” is set to channel 1.\n",
    "\n",
    "- Try changing the function generator to a square wave, then to a sawtooth wave."
   ]
  },
  {
   "cell_type": "markdown",
   "metadata": {},
   "source": [
    "<strong>Question 6:</strong>\n",
    "How do the 3 measurement quantities on your scope (average value, RMS\n",
    "value, and frequency) change for a sine, square, and triangle wave? Explain what you see."
   ]
  },
  {
   "cell_type": "markdown",
   "metadata": {},
   "source": []
  },
  {
   "cell_type": "markdown",
   "metadata": {},
   "source": [
    "## Part 3. Introducing the Breadboard\n",
    "\n",
    "- The breadboard is a powerful tool to test and debug the circuit design since no\n",
    "soldering is required. A typical breadboard consists of a perforated block of plastic\n",
    "with metal spring clips under the perforations. The clips are interconnected\n",
    "following a certain pattern underneath the plastic block (see the example below).The holes connected by the imaginary lines means that they are shorted.\n",
    "Electronic parts can be connected by plugging into the interconnected holes or by\n",
    "jumper wires.\n",
    "\n",
    "<br><br>\n",
    "<center>\n",
    "<img src=\"./breadboard.jpg\" align=\"center\" style=\"height:250px\" />\n",
    "</center>\n",
    "<br><br>\n",
    "\n",
    "- Take a look at the interconnection pattern above, the layout of a typical\n",
    "breadboard is made up from two parts: terminal strips and bus strips. Terminal\n",
    "strips are the main areas to hold the most electronic components. The holes are\n",
    "usually grouped into five in a column. Bus strips, usually run on the long side and\n",
    "are typically used for providing power to the circuits being built within the terminal\n",
    "strips area."
   ]
  },
  {
   "cell_type": "markdown",
   "metadata": {},
   "source": [
    "**Question 7:** How can you test your own breadboard to determine its interconnection\n",
    "pattern? Draw a simple diagram to explain how the holes in your breadboard are\n",
    "interconnected."
   ]
  },
  {
   "cell_type": "markdown",
   "metadata": {},
   "source": []
  },
  {
   "cell_type": "markdown",
   "metadata": {},
   "source": [
    "- In this lab, we will be using wires (called jumper wires) with 22 AWG (American wire gauge, denotes thickness of wire) can be used to connect two electronic parts. The wire ends should be stripped 3/16’’ to 5/16’’. Shorter stripped wires might result in bad contact with the board’s spring clips (insulation being caught in the springs). Longer stripped wires increase the likelihood of shortcircuits on the board. Needle-nose pliers and tweezers are helpful when inserting or  removing wires, particularly on crowded boards. One tip for keeping your circuit neat and readable is to use different color wires for different signal paths.\n",
    "\n",
    "- The breadboard is reusable after each time by removing all the parts and jumper wires from the board. "
   ]
  },
  {
   "cell_type": "markdown",
   "metadata": {},
   "source": [
    "## Part 4. Build Circuits and Measure Circuit Parameters\n",
    "In this lab, we will build two circuits – (1) resistive voltage divider, and (2) a simple RC\n",
    "filter. Keep your circuits on the breadboard until the end of the lab, since we need the\n",
    "circuits throughout the rest of the experiment.\n",
    "\n",
    "- Voltage divider: it is a simple linear circuit that produces an output voltage ($V_{out}$)\n",
    "that is a fraction of its input voltage ($V_{in}$). A simple example of a voltage divider\n",
    "consists of two resistors in series. It is commonly used to create a\n",
    "reference voltage, and may also be used as a signal attenuator.\n",
    "\n",
    "- Build the circuit on the breadboard using two resistors. Choose $R_1 = 3.3\\text{k}\\Omega$ , $R_2 = 10\\text{k}\\Omega$\n",
    ". Use a multi-meter to make sure that the resistors are of the correct values. Note\n",
    "that resistor values are printed on the outside as a series of colored bands. Take a\n",
    "look at the chart below to verify that you have a $3.3\\text{k}\\Omega$ and $10\\text{k}\\Omega$ resistor.\n",
    "\n",
    "- One hint to manage your power supply and ground system is to use the strip bus:\n",
    "make sure you connect the strip bus to the banana plugs which connect to the\n",
    "external power supply.\n",
    "<br><br>\n",
    "<center>\n",
    "<img src=\"./resistor-color-chart.png\" align=\"center\" style=\"height:400px\" />\n",
    "</center>\n",
    "<br><br>"
   ]
  },
  {
   "cell_type": "markdown",
   "metadata": {},
   "source": [
    "**Question 8** Suppose you accidentally picked up a $33\\text{k}\\Omega$ and a $100\\Omega$ resistor. What\n",
    "would the color bands look like instead?"
   ]
  },
  {
   "cell_type": "markdown",
   "metadata": {},
   "source": []
  },
  {
   "cell_type": "markdown",
   "metadata": {},
   "source": [
    "- Feed Vin with 5V from the power supply. Turn on the power supply, press and hold\n",
    "the “6V” button to limit the output range of the power supply from 0V to 6V. Then\n",
    "tune the dial to set the output voltage to 5V. You can tell the actual output voltage by\n",
    "reading the number on the display panel. Hook the output of the power supply to\n",
    "the breadboard. Test the voltage output using the multi-meter.\n",
    "\n",
    "<br><br>\n",
    "<center>\n",
    "<img src=\"./rc_divider.png\" align=\"center\" style=\"height:300px\" />\n",
    "</center>\n",
    "<br><br>"
   ]
  },
  {
   "cell_type": "markdown",
   "metadata": {},
   "source": [
    "**Question 9:** For the circuits above, what are the output voltages as a function of the input? Explain how both these circuit can be used as \n",
    "voltage dividers. Can I use small resistors (like $1\\Omega$) for this application and why/why not (think practicality)?"
   ]
  },
  {
   "cell_type": "markdown",
   "metadata": {},
   "source": []
  },
  {
   "cell_type": "markdown",
   "metadata": {},
   "source": [
    "- RC filter: you can turn the resistive voltage divider into a filter by simply replacing\n",
    "R2 by a capacitor. Choose $R$ to be $3.3\\text{ k}\\Omega$ and $C$ to be $0.01 \\text{ }\\mu\\text{F}$. Build the RC\n",
    "circuit on the breadboard. Answer the following questions:"
   ]
  },
  {
   "cell_type": "markdown",
   "metadata": {},
   "source": [
    "**Question 10:** What type of filter is it (high-pass, low-pass, band-pass, band-stop)? What is\n",
    "the cut-off frequency of this filter (here we use the $-3\\text{dB}$ definition)? Graph the Bode plot of\n",
    "your filter using the provided code below"
   ]
  },
  {
   "cell_type": "code",
   "execution_count": null,
   "metadata": {},
   "outputs": [],
   "source": [
    "%matplotlib inline\n",
    "from scipy import signal\n",
    "import matplotlib.pyplot as plt\n",
    "print(\"1a. 1st Order LPF\")\n",
    "tau = # FILL OUT THE RC CONSTANT HERE \n",
    "s1 = signal.lti([1], [tau, 1])\n",
    "w, mag, phase = signal.bode(s1)\n",
    "plt.ylabel(\"Magnitude $20log(|H(\\omega )|)$\")\n",
    "plt.xlabel(\"Frequency $\\omega$\")\n",
    "plt.grid()\n",
    "plt.semilogx(w, mag) # Bode magnitude plot\n",
    "plt.figure()\n",
    "plt.ylabel(\"Phase $\\phi$\")\n",
    "plt.xlabel(\"Frequency $\\omega$\")\n",
    "plt.semilogx(w, phase) # Bode phase plot\n",
    "plt.grid()\n",
    "plt.show()"
   ]
  },
  {
   "cell_type": "markdown",
   "metadata": {},
   "source": []
  },
  {
   "cell_type": "markdown",
   "metadata": {},
   "source": [
    "- Connect the input Vin of this filter to the function generator and hook the output to\n",
    "the oscilloscope. Tune the function generator to output a sine wave of frequency\n",
    "40kHz, 5 Vpeak, 0V offset."
   ]
  },
  {
   "cell_type": "markdown",
   "metadata": {},
   "source": [
    "**Question 11:** How does the output signal compare to the input\n",
    "signal? Is this what you would expect? How would you experimentally get the Bode plot? (One possibility is using code from last lab as well)"
   ]
  },
  {
   "cell_type": "markdown",
   "metadata": {},
   "source": []
  },
  {
   "cell_type": "markdown",
   "metadata": {},
   "source": [
    "**Question 12**: What type of filter would the RC filter be if you instead took the output at $R$? That is, you connect your test probes on both sides of the resistor. What would the cutoff frequency of this new filter be compared to the previous filter?"
   ]
  },
  {
   "cell_type": "markdown",
   "metadata": {},
   "source": []
  }
 ],
 "metadata": {
  "anaconda-cloud": {},
  "kernelspec": {
   "display_name": "Python 3",
   "language": "python",
   "name": "python3"
  },
  "language_info": {
   "codemirror_mode": {
    "name": "ipython",
    "version": 3
   },
   "file_extension": ".py",
   "mimetype": "text/x-python",
   "name": "python",
   "nbconvert_exporter": "python",
   "pygments_lexer": "ipython3",
   "version": "3.6.4"
  }
 },
 "nbformat": 4,
 "nbformat_minor": 2
}
