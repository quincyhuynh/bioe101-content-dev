{
 "cells": [
  {
   "cell_type": "markdown",
   "metadata": {},
   "source": [
    "# Note to BioE 101 Students #\n",
    "\n",
    "## You are not required to be proficient in python for the labs. This tutorial and the code samples in the labs should just be helpful references/templates for your final project should you choose to use Arduino/Python for your project. If by the end of the labs, you don't want to use Python or Arduino, that's okay.\n",
    "\n",
    "## For those who have taken CS61A, some of this might be review. I recommend skimming through the Python native stuff and focusing on the Numpy/Scipy and Matplotlib material more in-depth."
   ]
  },
  {
   "cell_type": "markdown",
   "metadata": {},
   "source": [
    "#  Introduction to Python and iPython notebooks\n",
    "`written by Rishi Sharma`\n",
    "\n",
    "`edited (Fall 2015) by Filip Maksimovic and Joey Greenspun`\n",
    "\n",
    "`edited (Spring 2016) by Reia Cho`\n",
    "\n",
    "`edited (Fall 2016) by Aviral Pandey`\n",
    "\n",
    "`edited (Spring 2017) by Quincy Huynh`\n",
    "\n",
    "adapted from Lab 0, EE126 http://inst.eecs.berkeley.edu/~ee126/fa14/\n",
    "\n",
    "modified from Berkeley Python Bootcamp 2013 https://github.com/profjsb/python-bootcamp\n",
    "\n",
    "and Python for Signal Processing http://link.springer.com/book/10.1007%2F978-3-319-01342-8\n",
    "\n",
    "and EE 123 iPython Tutorial http://inst.eecs.berkeley.edu/~ee123/sp14/lab/python_tutorial.ipynb\n"
   ]
  },
  {
   "cell_type": "markdown",
   "metadata": {},
   "source": [
    "## General iPython Notebook Usage Instructions (Introduction)"
   ]
  },
  {
   "cell_type": "markdown",
   "metadata": {},
   "source": [
    "Welcome to iPython! iPython is a code suite that includes Python, Numpy, Matplotlib, and other useful Python integration tools. The iPython notebook provides a document-style interface in which you can execute Python code and/or write text. The iPython notebook is broken up into \"cells\" which are executed one at a time. \n",
    "\n",
    "The currently selected cell is indicated by a thin black bounding box around it. CLICK HERE to see this effect. If you see a black box, you have selected this cell!\n",
    "\n",
    "To run the code in the current cell and advance onto the next cell, click the `Play` button in the toolbar above. Alternatively you can press `shift+enter` on the keyboard."
   ]
  },
  {
   "cell_type": "markdown",
   "metadata": {},
   "source": [
    "To add a new cell, go to the toolbar above and click `\"Insert->Insert New Cell Below\"` or `\"Insert->Insert New Cell Above\"`. Cells can be deleted by clicking `\"Edit->Delete Cell\"`. Now, please create a `\"New Cell Below\"`.\n",
    "\n",
    "Unlike this cell that you are reading, the new cell has `In [ ]:` in front of it and is filled in grey. This is a `Code` cell and is used for running Python code. This cell that you are reading is a `Markdown` cell which is used for writing text. Now, select the new cell you created by clicking it, then click  `\"Cell->Cell Type\"` in the tool bar above, and change the cell type from `Code` to `Markdown`. To change text in `Markdown` cells, double-click them and type. Once you've made your change, press `shift+enter` to see it in action!"
   ]
  },
  {
   "cell_type": "markdown",
   "metadata": {},
   "source": [
    "To save your notebook, either select `\"File->Save and Checkpoint\"` or hit `Command-s` for Mac or `Ctrl-s` for Windows and Linux. To undo in each cell, hit `Command-z` for Mac or `Ctrl-z` for Windows and Linux. To undo the `Delete Cell` operation, you will need to click `Edit->Undo Delete Cell`. To undo the `Delete Cell` operation, you will need to click `Edit->Undo Delete Cell`. For more information, the `Help` menu has keyboard shortcuts and additional documentation."
   ]
  },
  {
   "cell_type": "markdown",
   "metadata": {},
   "source": [
    "## Installing Python"
   ]
  },
  {
   "cell_type": "markdown",
   "metadata": {},
   "source": [
    "To install Python on your personal computer, follow the instructions on the course website.\n",
    "\n",
    "http://inst.eecs.berkeley.edu/~ee16a/fa15/install/\n",
    "\n",
    "All that you need to do is run the install script (OS specific!) and be a little bit patient. If you using Windows, the script will need to uninstall any current versions of Python on your computer (we are using Python3 for this course). You also may need to run it twice."
   ]
  },
  {
   "cell_type": "markdown",
   "metadata": {},
   "source": [
    "## What is Python?\n",
    "\n",
    "Good question. Python is an interpreted programming language. This means that there is no compilation. One of Python's most basic functions is performing arithmetic. Let's see how this is done in the cells below:\n",
    "\n",
    "(Reminder: Select the cell by clicking it and hit `Play` button above or `shift+enter` to run the cell)"
   ]
  },
  {
   "cell_type": "code",
   "execution_count": null,
   "metadata": {
    "collapsed": false
   },
   "outputs": [],
   "source": [
    "3+6"
   ]
  },
  {
   "cell_type": "code",
   "execution_count": null,
   "metadata": {
    "collapsed": false
   },
   "outputs": [],
   "source": [
    "6-17"
   ]
  },
  {
   "cell_type": "code",
   "execution_count": null,
   "metadata": {
    "collapsed": false
   },
   "outputs": [],
   "source": [
    "7*8"
   ]
  },
  {
   "cell_type": "code",
   "execution_count": null,
   "metadata": {
    "collapsed": false
   },
   "outputs": [],
   "source": [
    "3/4"
   ]
  },
  {
   "cell_type": "code",
   "execution_count": null,
   "metadata": {
    "collapsed": false
   },
   "outputs": [],
   "source": [
    "((3+4)*(5/6))"
   ]
  },
  {
   "cell_type": "markdown",
   "metadata": {},
   "source": [
    "## Variables"
   ]
  },
  {
   "cell_type": "markdown",
   "metadata": {},
   "source": [
    "A more convenient way to do complicated operations is to use variables. A variable can be used to store data in memory and access it by name. A variable will be saved throughout your entire Python notebook with the same value unless assigned another value."
   ]
  },
  {
   "cell_type": "code",
   "execution_count": null,
   "metadata": {
    "collapsed": false
   },
   "outputs": [],
   "source": [
    "x = 10\n",
    "y = 12\n",
    "x + y"
   ]
  },
  {
   "cell_type": "markdown",
   "metadata": {},
   "source": [
    "Now you try. In the cell below, make a variable called `y` equal to any number you like."
   ]
  },
  {
   "cell_type": "markdown",
   "metadata": {},
   "source": [
    "Unlike C (or Ruby for the web design hipsters out there), Python uses what is called \"duck typing.\" This basically means that if a variable looks like a certain type, Python will assume that it is that type. At no point will you have to declare the type! Let's see that in action when we need to distinguish between `ints` and `floats`."
   ]
  },
  {
   "cell_type": "code",
   "execution_count": null,
   "metadata": {
    "collapsed": false
   },
   "outputs": [],
   "source": [
    "a = 16\n",
    "b = 5\n",
    "z = a/b\n",
    "print(z)"
   ]
  },
  {
   "cell_type": "markdown",
   "metadata": {},
   "source": [
    "An `int` (short for integer) is a positive or negative whole number (e.g. -12). A `float` (short for floating point number) is a positive or negative value that has a decimal point (e.g. 21.485). Notice that even though `a` and `b` are both integers, Python has turned their quotient into a float. It has assumed that conversion in the background."
   ]
  },
  {
   "cell_type": "markdown",
   "metadata": {},
   "source": [
    "## Boolean Values"
   ]
  },
  {
   "cell_type": "markdown",
   "metadata": {},
   "source": [
    "Booleans are values that either true or false. In Python, these values take the form of `True` and `False`"
   ]
  },
  {
   "cell_type": "code",
   "execution_count": null,
   "metadata": {
    "collapsed": false
   },
   "outputs": [],
   "source": [
    "c = True # assigns a True value\n",
    "d = False # assigns a False value"
   ]
  },
  {
   "cell_type": "markdown",
   "metadata": {},
   "source": [
    "We can also do comparisons to get boolean values."
   ]
  },
  {
   "cell_type": "code",
   "execution_count": null,
   "metadata": {
    "collapsed": false
   },
   "outputs": [],
   "source": [
    "5 > 6 # greater than?"
   ]
  },
  {
   "cell_type": "code",
   "execution_count": null,
   "metadata": {
    "collapsed": false
   },
   "outputs": [],
   "source": [
    "5 < 6 # less than?"
   ]
  },
  {
   "cell_type": "code",
   "execution_count": null,
   "metadata": {
    "collapsed": false
   },
   "outputs": [],
   "source": [
    "5 == 5 # equals?"
   ]
  },
  {
   "cell_type": "code",
   "execution_count": null,
   "metadata": {
    "collapsed": false
   },
   "outputs": [],
   "source": [
    "5 != 5 # not equals?"
   ]
  },
  {
   "cell_type": "code",
   "execution_count": null,
   "metadata": {
    "collapsed": false
   },
   "outputs": [],
   "source": [
    "1 >= -15 # greater than or equal?"
   ]
  },
  {
   "cell_type": "code",
   "execution_count": null,
   "metadata": {
    "collapsed": false
   },
   "outputs": [],
   "source": [
    "15 <= 15 # less than or equal?"
   ]
  },
  {
   "cell_type": "markdown",
   "metadata": {},
   "source": [
    "If we want the opposite of the value, we use the `not` keyword to invert it."
   ]
  },
  {
   "cell_type": "code",
   "execution_count": null,
   "metadata": {
    "collapsed": false
   },
   "outputs": [],
   "source": [
    "not True"
   ]
  },
  {
   "cell_type": "code",
   "execution_count": null,
   "metadata": {
    "collapsed": false
   },
   "outputs": [],
   "source": [
    "not (5 == 1)"
   ]
  },
  {
   "cell_type": "markdown",
   "metadata": {},
   "source": [
    "## Strings"
   ]
  },
  {
   "cell_type": "markdown",
   "metadata": {},
   "source": [
    "A string is a collection of characters. Strings are defined by surrounding text with double-quotes or single-quotes (like this: \"hi\" OR like this: 'hi'). There is no difference in using single or double quotes. Make a variable called `my_name` that contains your name."
   ]
  },
  {
   "cell_type": "code",
   "execution_count": null,
   "metadata": {
    "collapsed": true
   },
   "outputs": [],
   "source": [
    "my_name = \"al\" # Your name goes between those quotes"
   ]
  },
  {
   "cell_type": "markdown",
   "metadata": {},
   "source": [
    "Now here's a cool thing. You can combine strings into a new string by using the `+` sign! This is called string concatenation. See it in action!"
   ]
  },
  {
   "cell_type": "code",
   "execution_count": null,
   "metadata": {
    "collapsed": false
   },
   "outputs": [],
   "source": [
    "'My name is: ' + my_name"
   ]
  },
  {
   "cell_type": "markdown",
   "metadata": {},
   "source": [
    "This creates a NEW string. The old strings are not affected, so if they are assigned to variables, you can still use them. Run the box below to see this! Also, note that the 'print' function is an easy way to display information to the screen."
   ]
  },
  {
   "cell_type": "code",
   "execution_count": null,
   "metadata": {
    "collapsed": false
   },
   "outputs": [],
   "source": [
    "hello = \"hello\"\n",
    "world = \" world\"\n",
    "print(hello)\n",
    "print(world)\n",
    "\n",
    "hello_world = hello + world\n",
    "print(hello_world)\n",
    "print(hello)\n",
    "print(world)"
   ]
  },
  {
   "cell_type": "markdown",
   "metadata": {},
   "source": [
    "## Functions"
   ]
  },
  {
   "cell_type": "markdown",
   "metadata": {},
   "source": [
    "Functions take in inputs and apply some actions. This may or may not include returning an output. Since this is not a programming course, we will not go in-depth on functions. Such material is left to CS61A. There are a few important points about Python functions that are useful to you.\n",
    "\n",
    "A few basic function definition is written below. Note the syntax of the defining functions.\n",
    "- `def` declares that this is a function. \n",
    "- The name before the parentheses is the name of the function. DO NOT name functions and variables the same thing. \n",
    "- In the parentheses are the local variables names. When values are passed into the function, they receive a new name. Note that because of 'duck typing', we do not need to declare variable types.\n",
    "\n",
    "You will have to complete some function in lab and for homeworks. It may also be useful to be able to write basic functions that do repeated tasks (i.e. list access)."
   ]
  },
  {
   "cell_type": "code",
   "execution_count": null,
   "metadata": {
    "collapsed": false
   },
   "outputs": [],
   "source": [
    "def hello():\n",
    "    print(\"hello\")\n",
    "\n",
    "def display(word):\n",
    "    print(word)\n",
    "\n",
    "def add(a, b): #separate multiple variables with a comma\n",
    "    return a + b #different from print! See below\n",
    "\n",
    "hello()\n",
    "display(my_name) #my_name is still usable from earlier!\n",
    "display(\"I love EE16A!\")\n",
    "\n",
    "add(1,2)\n",
    "add(5,3)\n",
    "\n",
    "def change():\n",
    "    my_name = \"Tom\" #We can do assignment in the function! \n",
    "                    #This overrides the assignment from before WITHIN the function, \n",
    "                    #but does not affect the outside assignment\n",
    "    print(\"I am \" + my_name)\n",
    "\n",
    "change()\n",
    "print(\"but I am \" + my_name) #Who gets printed?"
   ]
  },
  {
   "cell_type": "markdown",
   "metadata": {},
   "source": [
    "Note that `print` and `return` are different!\n",
    "\n",
    "`return` is a command to be used within functions. It denotes the *output* of the function. This output can be then stored in a variable or used by other functions."
   ]
  },
  {
   "cell_type": "code",
   "execution_count": null,
   "metadata": {
    "collapsed": false
   },
   "outputs": [],
   "source": [
    "three = add(1, 2) #this is an int\n",
    "print(\"The sum is: \" + str(three)) #need to convert to an str before printing\n",
    "\n",
    "five = str(add(add(1, 2), 2)) #or we can turn it into a str first\n",
    "print(\"The next sum is: \" + five)"
   ]
  },
  {
   "cell_type": "markdown",
   "metadata": {},
   "source": [
    "`print` is a built-in Python *function*. It *displays* the input to the screen and *returns* the null value *None*.\n",
    "\n",
    "You have already seen how we can use `print` to display things to the screen. Notice what happens when we try to return the value of print!"
   ]
  },
  {
   "cell_type": "code",
   "execution_count": null,
   "metadata": {
    "collapsed": false
   },
   "outputs": [],
   "source": [
    "def run():\n",
    "    the_return = print(\"Hello\")\n",
    "    return the_return\n",
    "\n",
    "run()\n",
    "print()\n",
    "\n",
    "print(run()) #but if we print it..."
   ]
  },
  {
   "cell_type": "markdown",
   "metadata": {},
   "source": [
    "\"Hello\" displayed first because the `print` function is run to get the return. \n",
    "\n",
    "Python automatically displays the last value returned EXCEPT for `None`.\n",
    "However, when we try to print it, `None` is printed!\n",
    "\n",
    "This difference will be important for working with functions."
   ]
  },
  {
   "cell_type": "markdown",
   "metadata": {},
   "source": [
    "In this class, we will be using the NumPy and Matplotlib libraries for math and ploting tools respectively. Their syntax can vary as you will see below."
   ]
  },
  {
   "cell_type": "markdown",
   "metadata": {},
   "source": [
    "## Lists"
   ]
  },
  {
   "cell_type": "markdown",
   "metadata": {},
   "source": [
    "A list is a mutable array of data. They can be created using square brackets [ ]. Elements in the list are separated by commas. Elements can be of any type (int, string, float, etc.).\n",
    "\n",
    "\n",
    "Important functions: \n",
    "\n",
    "- `'+'` joins lists and creates a *new* list. \n",
    "\n",
    "- `len(x)` to get the length of list `x`"
   ]
  },
  {
   "cell_type": "code",
   "execution_count": null,
   "metadata": {
    "collapsed": false
   },
   "outputs": [],
   "source": [
    "fun_array = [1, 2, \"Let it\"] + [4, 5, 6]\n",
    "\n",
    "print(fun_array)"
   ]
  },
  {
   "cell_type": "code",
   "execution_count": null,
   "metadata": {
    "collapsed": false
   },
   "outputs": [],
   "source": [
    "print(len(fun_array))"
   ]
  },
  {
   "cell_type": "markdown",
   "metadata": {},
   "source": [
    "To access elements from the array, we can use the same square brackets. Note that arrays in Python are indexed from 0. This means that the first element of the array is element 0 and can be attained with `array[0]`. (sorry to the Matlab gurus out there)"
   ]
  },
  {
   "cell_type": "code",
   "execution_count": null,
   "metadata": {
    "collapsed": false
   },
   "outputs": [],
   "source": [
    "print(fun_array[0]) #zero-index\n",
    "print(fun_array[2] + \" be\")\n",
    "\n",
    "fun_array[0] = -1\n",
    "print(fun_array)\n",
    "\n",
    "print(fun_array[-1]) #indexing backwards\n",
    "print(fun_array[6]) #out of bounds"
   ]
  },
  {
   "cell_type": "markdown",
   "metadata": {},
   "source": [
    "We can also index multiple elements at the same time. This is called *list slicing* and returns a NEW list.\n",
    "- list[first:last] where last is exclusive\n",
    "- list[first:last:step] step defaults to 1"
   ]
  },
  {
   "cell_type": "code",
   "execution_count": null,
   "metadata": {
    "collapsed": false
   },
   "outputs": [],
   "source": [
    "print(fun_array[1:3]) #indexes 1, 2\n",
    "print(fun_array[:4]) #from the beginning thru index 3\n",
    "print(fun_array[2:]) #from index 2 to the end\n",
    "\n",
    "print(fun_array[1:6:2]) #indexes 1,3,5\n",
    "print(fun_array[(len(fun_array))-1:1:-1]) #indexes 5,4,3,2"
   ]
  },
  {
   "cell_type": "markdown",
   "metadata": {},
   "source": [
    "You can also modify elements of a list. If you want to modify an element, just treat it like an individual variable."
   ]
  },
  {
   "cell_type": "code",
   "execution_count": null,
   "metadata": {
    "collapsed": false
   },
   "outputs": [],
   "source": [
    "fun_array[3] = \"Let it GOOOOOO\"\n",
    "fun_array[2] += \" gooooooo\" \n",
    "\n",
    "# using += here is equivalent to typing: fun_array[2] = fun_array[2] + \" gooooooo\"\n",
    "# it's just a little bit of short-hand\n",
    "# so, what do you think happens if you evaluate this cell multiple times?\n",
    "\n",
    "print(fun_array)"
   ]
  },
  {
   "cell_type": "markdown",
   "metadata": {},
   "source": [
    "Lists can also be modified by combining two lists."
   ]
  },
  {
   "cell_type": "code",
   "execution_count": null,
   "metadata": {
    "collapsed": false
   },
   "outputs": [],
   "source": [
    "fun_array.append(7) # puts 7 at the end of fun_array. It is now a different array.\n",
    "fun_array.append(8)\n",
    "\n",
    "print(fun_array)\n",
    "print(len(fun_array))"
   ]
  },
  {
   "cell_type": "markdown",
   "metadata": {},
   "source": [
    "## Tuples"
   ]
  },
  {
   "cell_type": "markdown",
   "metadata": {},
   "source": [
    "Unlike a list, a tuple is immutable (elements cannot be changed). They are created using parentheses ( ) instead of square brackets. Many of the other list manupulations can be used for tuples."
   ]
  },
  {
   "cell_type": "code",
   "execution_count": null,
   "metadata": {
    "collapsed": false
   },
   "outputs": [],
   "source": [
    "t = (1, 2, \"asdf\") + (3, 4, 5)\n",
    "print(t)"
   ]
  },
  {
   "cell_type": "code",
   "execution_count": null,
   "metadata": {
    "collapsed": false
   },
   "outputs": [],
   "source": [
    "# This doesn't work!! Tuples are immutable\n",
    "t[0] = 10\n",
    "\n",
    "# Errors in ipython notebooks appear inline"
   ]
  },
  {
   "cell_type": "markdown",
   "metadata": {},
   "source": [
    "You might ask yourself, why use tuples instead of lists? Good question. Tuples are often used in numpy functions, which we will see later on."
   ]
  },
  {
   "cell_type": "markdown",
   "metadata": {},
   "source": [
    "## if/else statements"
   ]
  },
  {
   "cell_type": "markdown",
   "metadata": {},
   "source": [
    "We can use the True/False values from earliers to control if code will run. `if` statements will execute a block of code provided that the condition in the `if` statement is true. An optional`else` statement must come after an `if` statement. The else block will execute *only* if the condition in the `if` statement is not true."
   ]
  },
  {
   "cell_type": "code",
   "execution_count": null,
   "metadata": {
    "collapsed": false
   },
   "outputs": [],
   "source": [
    "g = [1,2,3,4]\n",
    "\n",
    "if len(g) == 2:\n",
    "    print(\"I should not print\")\n",
    "# no else statement\n",
    "\n",
    "if len(g) > 3:\n",
    "    print(\"The list has more than 3 elements\")\n",
    "else:\n",
    "    print(\"The list does not have more than 3 elements\")"
   ]
  },
  {
   "cell_type": "markdown",
   "metadata": {},
   "source": [
    "You can make an `if` statement an arbitrary number of conditions by using `elif` after the initial `if`. `if` must be the first condition, and `else` must be last, but is not necessarily required."
   ]
  },
  {
   "cell_type": "code",
   "execution_count": null,
   "metadata": {
    "collapsed": false
   },
   "outputs": [],
   "source": [
    "if len(g) < 3:\n",
    "    print(\"g has fewer than 3 elements\")\n",
    "elif len(g) > 3:\n",
    "    print(\"g has more than 3 elements\")\n",
    "else:\n",
    "    print(\"g has exactly 3 elements\")"
   ]
  },
  {
   "cell_type": "markdown",
   "metadata": {},
   "source": [
    "## for loops"
   ]
  },
  {
   "cell_type": "markdown",
   "metadata": {},
   "source": [
    "A for loop is a way to repeatedly execute a block of code. In each iteration of the loop, the looping variable (`i` in the examples below) changes value automatically."
   ]
  },
  {
   "cell_type": "code",
   "execution_count": null,
   "metadata": {
    "collapsed": false
   },
   "outputs": [],
   "source": [
    "#range(x) creates a set of values from 0 to x-1\n",
    "#range(m,n) creates a set of values from m to n-1\n",
    "\n",
    "for i in range(10): # i will loop from 0 to 9\n",
    "    print(i)"
   ]
  },
  {
   "cell_type": "markdown",
   "metadata": {},
   "source": [
    "Indenting matters in Python! "
   ]
  },
  {
   "cell_type": "code",
   "execution_count": null,
   "metadata": {
    "collapsed": false
   },
   "outputs": [],
   "source": [
    "for i in [4, 6, \"asdf\", \"jkl\"]: # i will loop through this list\n",
    "    print(i)\n",
    "    print(\"I'm still looping!\")"
   ]
  },
  {
   "cell_type": "code",
   "execution_count": null,
   "metadata": {
    "collapsed": false
   },
   "outputs": [],
   "source": [
    "for i in [4, 6, \"asdf\", \"jkl\"]:\n",
    "    print(i)\n",
    "print(\"Now I'm done looping!\")"
   ]
  },
  {
   "cell_type": "markdown",
   "metadata": {},
   "source": [
    "We can use our if/else statements to help determine appropriate action for the loops."
   ]
  },
  {
   "cell_type": "code",
   "execution_count": null,
   "metadata": {
    "collapsed": false
   },
   "outputs": [],
   "source": [
    "for i in range(10):\n",
    "    if i > 5:\n",
    "        print(\"greater than 5\")\n",
    "    else:\n",
    "        print(\"less than 5\")"
   ]
  },
  {
   "cell_type": "markdown",
   "metadata": {},
   "source": [
    "## Numpy Arrays"
   ]
  },
  {
   "cell_type": "markdown",
   "metadata": {},
   "source": [
    "A numpy array is just like a list with support for matrix math. You will be using numpy arrays extensively in this course. Python lists and Numpy arrays are not interchangable, so be careful with which data type you are using, inputing, and outputing. You can however easily convert a list to a numpy array. Let's make one called `N`."
   ]
  },
  {
   "cell_type": "code",
   "execution_count": null,
   "metadata": {
    "collapsed": false
   },
   "outputs": [],
   "source": [
    "import numpy as np # by convention, import numpy as np\n",
    "\n",
    "M = [[1,2,3],[4,5,6]]\n",
    "N = np.array( [ [1, 2, 3], [4, 5, 6] ] )\n",
    "\n",
    "print(N)\n",
    "\n",
    "N = np.array(M)\n",
    "print(N)"
   ]
  },
  {
   "cell_type": "markdown",
   "metadata": {},
   "source": [
    "It looks like a matrix, right? Cool. Now, let's go through a few ways to get useful information about a numpy array. The `ndim` function tells you how many dimensions a certain array has:"
   ]
  },
  {
   "cell_type": "code",
   "execution_count": null,
   "metadata": {
    "collapsed": false
   },
   "outputs": [],
   "source": [
    "print(\"N has\",N.ndim, \"dimensions.\")"
   ]
  },
  {
   "cell_type": "markdown",
   "metadata": {},
   "source": [
    "The `shape`  will tell you the length of each dimension. For instance, for a 2-dimensional numpy array like `N`, it will return a tuple with (# of rows, # of columns)."
   ]
  },
  {
   "cell_type": "code",
   "execution_count": null,
   "metadata": {
    "collapsed": false
   },
   "outputs": [],
   "source": [
    "print(\"Rows, Columns:\", N.shape)"
   ]
  },
  {
   "cell_type": "markdown",
   "metadata": {},
   "source": [
    "The `size` function will return the total number of elements in a numpy array."
   ]
  },
  {
   "cell_type": "code",
   "execution_count": null,
   "metadata": {
    "collapsed": false
   },
   "outputs": [],
   "source": [
    "print(\"Size:\",N.size)"
   ]
  },
  {
   "cell_type": "markdown",
   "metadata": {},
   "source": [
    "And, finally, the `len` function will return the length of the first dimension."
   ]
  },
  {
   "cell_type": "code",
   "execution_count": null,
   "metadata": {
    "collapsed": false
   },
   "outputs": [],
   "source": [
    "print(\"Length:\", len(N))"
   ]
  },
  {
   "cell_type": "markdown",
   "metadata": {},
   "source": [
    "Numpy also has functions that allow for arrays of just ones or just zeros to be created. A third function creates an identity matrix which is a matrix with 1's along the diagonal. These functions are pretty useful."
   ]
  },
  {
   "cell_type": "code",
   "execution_count": null,
   "metadata": {
    "collapsed": false
   },
   "outputs": [],
   "source": [
    "zeros = np.zeros((3,3))\n",
    "print(\"zeros =\", zeros)\n",
    "\n",
    "ones = np.ones((3,3))\n",
    "print(\"ones =\", ones)\n",
    "\n",
    "i = np.eye(3,3)\n",
    "print(\"Identity =\", i)"
   ]
  },
  {
   "cell_type": "markdown",
   "metadata": {},
   "source": [
    "Another useful function is `np.linspace()`. This function takes in a start number, a end number, and the size of the output array. The outputted array is filled with evenly spaced numbers over the specified interval."
   ]
  },
  {
   "cell_type": "code",
   "execution_count": null,
   "metadata": {
    "collapsed": false
   },
   "outputs": [],
   "source": [
    "gradient = np.linspace(0, 9, 10)\n",
    "print(\"gradient =\", gradient)\n",
    "\n",
    "gradient2 = np.linspace(0, 9, 5)\n",
    "print(\"gradient2 =\", gradient2)\n",
    "\n",
    "gradient3 = np.linspace(0, 9, 20)\n",
    "print(\"gradient2 =\", gradient3)"
   ]
  },
  {
   "cell_type": "markdown",
   "metadata": {},
   "source": [
    "##Accessing elements in Numpy Arrays:\n",
    "Accessing elements in Numpy arrays is the same as a python list. However, numpy does offer an alternative format for indexing for multidimensional arrays where you can use a comma to seperate different dimensions. See the example below. Note that the first dimension is always the row, and the second the column. "
   ]
  },
  {
   "cell_type": "code",
   "execution_count": null,
   "metadata": {
    "collapsed": false
   },
   "outputs": [],
   "source": [
    "a = [1,2,3]\n",
    "print(a[0])\n",
    "b = np.array(a)\n",
    "print(a[0])\n",
    "c = [[1,2,3],[4,5,6]]\n",
    "print(c[0][1])\n",
    "d = np.array(c)\n",
    "print(d[0][1])\n",
    "print(d[0,1])"
   ]
  },
  {
   "cell_type": "markdown",
   "metadata": {},
   "source": [
    "To make matters slightly more confusing, Numpy also has a matrix class. Matrices must be 2 dimensional and can only be accesed using the numpy comma syntax."
   ]
  },
  {
   "cell_type": "code",
   "execution_count": null,
   "metadata": {
    "collapsed": false
   },
   "outputs": [],
   "source": [
    "A = np.matrix([[1,2,3],[4,5,6]])\n",
    "print(A[0,1])\n",
    "print(A[1,0])"
   ]
  },
  {
   "cell_type": "markdown",
   "metadata": {},
   "source": [
    "##Basic Array math\n",
    "Arrays of the same size can be added together, and multiplied together. Both of these operations occur element-wise."
   ]
  },
  {
   "cell_type": "code",
   "execution_count": null,
   "metadata": {
    "collapsed": false
   },
   "outputs": [],
   "source": [
    "a = np.array([1, 2, 3])\n",
    "\n",
    "print(\"a=\", a)\n",
    "print(\"a+a=\", a + a) #element-wise addition\n",
    "print(\"a*a=\", a * a)   #element-wise multiplication"
   ]
  },
  {
   "cell_type": "code",
   "execution_count": null,
   "metadata": {
    "collapsed": false
   },
   "outputs": [],
   "source": [
    "b = np.ones((3,3))*2\n",
    "print(\"b=\", b)\n",
    "\n",
    "c = np.ones((3,3))\n",
    "print(\"c=\", c)\n",
    "print(\"b*c = \", b*c)\n",
    "print(\"b+c = \", b+c)"
   ]
  },
  {
   "cell_type": "markdown",
   "metadata": {},
   "source": [
    "An array can also be added to or multiplied by a scalar, where it addition/multiplication again proceeds element wise"
   ]
  },
  {
   "cell_type": "code",
   "execution_count": null,
   "metadata": {
    "collapsed": false
   },
   "outputs": [],
   "source": [
    "a = np.array([1,2,3])\n",
    "print(\"a + 2 = \", a + 2)\n",
    "print(\"a * 2 = \", a * 2)"
   ]
  },
  {
   "cell_type": "markdown",
   "metadata": {},
   "source": [
    "##Matrix multiplication and inner products"
   ]
  },
  {
   "cell_type": "markdown",
   "metadata": {},
   "source": [
    "In order to do matrix multiplication, \"np.matrix\" must be put around the array or a dot product must be taken:"
   ]
  },
  {
   "cell_type": "code",
   "execution_count": null,
   "metadata": {
    "collapsed": false
   },
   "outputs": [],
   "source": [
    "print(\"b*c = \", np.matrix(b)*np.matrix(c))\n",
    "print(\"b*c = \", np.dot(b,c))"
   ]
  },
  {
   "cell_type": "markdown",
   "metadata": {},
   "source": [
    "Alternatively, we can create them as numpy matrices:"
   ]
  },
  {
   "cell_type": "code",
   "execution_count": null,
   "metadata": {
    "collapsed": false
   },
   "outputs": [],
   "source": [
    "d = np.matrix([[1,0,0],[0,1,0],[0,0,1]])\n",
    "e = np.matrix([[7],[11],[13]])\n",
    "\n",
    "print(d*e)"
   ]
  },
  {
   "cell_type": "markdown",
   "metadata": {},
   "source": [
    "In order to take the inner product between two vectors, you can use np.dot:"
   ]
  },
  {
   "cell_type": "code",
   "execution_count": null,
   "metadata": {
    "collapsed": false
   },
   "outputs": [],
   "source": [
    "a = np.array([1,2,3])\n",
    "b = np.array([2,3,4])\n",
    "print(np.dot(a,b))"
   ]
  },
  {
   "cell_type": "markdown",
   "metadata": {},
   "source": [
    "##Numpy array slicing"
   ]
  },
  {
   "cell_type": "markdown",
   "metadata": {},
   "source": [
    "Much like with Python lists, we can index and slice Numpy arrays. We use commas to handle the matrix dimensions."
   ]
  },
  {
   "cell_type": "code",
   "execution_count": null,
   "metadata": {
    "collapsed": false
   },
   "outputs": [],
   "source": [
    "d = np.matrix([[1,2,3],[4,5,6],[7,8,9]])\n",
    "print(d)\n",
    "\n",
    "#Since d is a 2D matrix, we use 2 dimensions to access\n",
    "print(d[1,1]) #second row, second column\n",
    "\n",
    "print(d[0]) #first row\n",
    "print(d[:, 1]) #first column. The colon is to \"select-all\" and is needed for the comma\n",
    "\n",
    "print(d[0:2, 1]) #first 2 rows, 2nd column\n",
    "\n",
    "print(d[::2,::2]) #every other row, every other column"
   ]
  },
  {
   "cell_type": "markdown",
   "metadata": {},
   "source": [
    "## Pass-by-reference"
   ]
  },
  {
   "cell_type": "markdown",
   "metadata": {},
   "source": [
    "Let's look at numpy arrays in a bit more detail. Suppose I want an array `x` with six elements, and an array `y` that is a subset of `x`"
   ]
  },
  {
   "cell_type": "code",
   "execution_count": null,
   "metadata": {
    "collapsed": false
   },
   "outputs": [],
   "source": [
    "x = np.array([1,2,3,4,5,6])\n",
    "print(x)\n",
    "y = x[0:4] #elements index-0 thru 3\n",
    "print(y)"
   ]
  },
  {
   "cell_type": "markdown",
   "metadata": {},
   "source": [
    "But I changed my mind, and I want to alter `y`"
   ]
  },
  {
   "cell_type": "code",
   "execution_count": null,
   "metadata": {
    "collapsed": false
   },
   "outputs": [],
   "source": [
    "y[0] = 7\n",
    "print(y)"
   ]
  },
  {
   "cell_type": "markdown",
   "metadata": {},
   "source": [
    "Makes sense, right? Now let's see what happened to `x`?"
   ]
  },
  {
   "cell_type": "code",
   "execution_count": null,
   "metadata": {
    "collapsed": false
   },
   "outputs": [],
   "source": [
    "print(x)"
   ]
  },
  {
   "cell_type": "markdown",
   "metadata": {},
   "source": [
    "Oh my goodness Python, what did you do to `x`? Contrary to expectation, `y` is not actually a copy of `x`.\n",
    "\n",
    "Numpy uses 'pass-by-reference semantics'. This means that rather than making copies of arrays, Python will simply record and reference the memory location of the original array. So, if you modify what you think is a copy of an array, you are actually modifying both the copy and the original, because they reference the same memory location. This is particularly helpful with very large arrays because copying can be slow.\n",
    "\n",
    "Does this sound confusing? That's ok. You don't need to understand this fully right now. You just need to be aware that Python deals with numpy arrays a little bit differently than regular variables.\n",
    "\n",
    "To actually copy x, we should use .copy()"
   ]
  },
  {
   "cell_type": "code",
   "execution_count": null,
   "metadata": {
    "collapsed": false
   },
   "outputs": [],
   "source": [
    "x = np.array([1,2,3,4,5,6])\n",
    "y = x.copy()\n",
    "y[0] = 7\n",
    "print(x)\n",
    "print(y)"
   ]
  },
  {
   "cell_type": "markdown",
   "metadata": {},
   "source": [
    "##Common Numpy functions\n",
    "Below is a list of some common numpy functions, and their usage"
   ]
  },
  {
   "cell_type": "code",
   "execution_count": null,
   "metadata": {
    "collapsed": false
   },
   "outputs": [],
   "source": [
    "arr = np.array([0,1,2,3,4,5])\n",
    "A = np.zeros((5,5)) #Create an array or matrix filled with zeros, pass in size as a tuple\n",
    "A = np.eye(5)       #Create an identity matrix\n",
    "A = np.ones((5,5))  #Create an array or matrix filled with ones\n",
    "B = A.copy()        #Create a copy of the matrix A \n",
    "B = A.T             #Set B to be the transpose of A   \n",
    "x = np.argmax(arr)  #Returns the index of the array element with the maximum value\n",
    "x = np.argmin(arr)  #Returns the index of the array element with the minimum value"
   ]
  },
  {
   "cell_type": "markdown",
   "metadata": {},
   "source": [
    "## Plotting"
   ]
  },
  {
   "cell_type": "markdown",
   "metadata": {},
   "source": [
    "In this class, we will use `matplotlib.pyplot` to plot signals and images. \n",
    "\n",
    "To begin with, we import `matplotlib.pyplot` as `plt`"
   ]
  },
  {
   "cell_type": "code",
   "execution_count": null,
   "metadata": {
    "collapsed": false
   },
   "outputs": [],
   "source": [
    "import numpy as np\n",
    "import matplotlib.pyplot as plt # by convention, we import pyplot as plt\n",
    "from numpy import r_ # import r_ function from numpy\n",
    "#note that these imports may take some time\n",
    "\n",
    "# plot in browser instead of opening new windows\n",
    "%matplotlib inline\n",
    "\n",
    "x = r_[:1:0.01] # if you don't specify a number before the first colon, the starting index defaults to 0\n",
    "a = np.exp( -x )\n",
    "b = np.sin( x*10.0 )/4.0 + 0.5"
   ]
  },
  {
   "cell_type": "markdown",
   "metadata": {},
   "source": [
    "`plt.plot(x, a)` plots `a` against `x`"
   ]
  },
  {
   "cell_type": "code",
   "execution_count": null,
   "metadata": {
    "collapsed": false
   },
   "outputs": [],
   "source": [
    "plt.figure()\n",
    "plt.plot( x, a )"
   ]
  },
  {
   "cell_type": "markdown",
   "metadata": {},
   "source": [
    "Once you started a figure, you can keep plotting to the same figure"
   ]
  },
  {
   "cell_type": "code",
   "execution_count": null,
   "metadata": {
    "collapsed": false
   },
   "outputs": [],
   "source": [
    "plt.figure()\n",
    "plt.plot( x, a, 'green' )\n",
    "plt.plot( x, b )"
   ]
  },
  {
   "cell_type": "markdown",
   "metadata": {},
   "source": [
    "To plot different plots, you can create a second figure"
   ]
  },
  {
   "cell_type": "code",
   "execution_count": null,
   "metadata": {
    "collapsed": false
   },
   "outputs": [],
   "source": [
    "plt.figure()\n",
    "plt.plot( x, a )\n",
    "plt.figure()\n",
    "plt.plot( x, b )"
   ]
  },
  {
   "cell_type": "markdown",
   "metadata": {},
   "source": [
    "To label the axes, use `plt.xlabel()` and `plt.ylabel()`"
   ]
  },
  {
   "cell_type": "code",
   "execution_count": null,
   "metadata": {
    "collapsed": false
   },
   "outputs": [],
   "source": [
    "plt.figure()\n",
    "plt.plot( x, a )\n",
    "plt.plot( x, b )\n",
    "\n",
    "plt.xlabel( \"time\" )\n",
    "plt.ylabel( \"space\" )"
   ]
  },
  {
   "cell_type": "markdown",
   "metadata": {},
   "source": [
    "You can also add title and legends using `plt.title()` and `plt.legend()`"
   ]
  },
  {
   "cell_type": "code",
   "execution_count": null,
   "metadata": {
    "collapsed": false
   },
   "outputs": [],
   "source": [
    "plt.figure()\n",
    "plt.plot( x, a )\n",
    "plt.plot( x, b )\n",
    "plt.xlabel( \"time\" )\n",
    "plt.ylabel( \"space\" )\n",
    "\n",
    "plt.title( \"Most important graph in the world\" )\n",
    "\n",
    "plt.legend( (\"e^-x\", \"sin(x)\") )"
   ]
  },
  {
   "cell_type": "markdown",
   "metadata": {},
   "source": [
    "There are many options you can specify in `plot()`, such as color and linewidth. You can also change the axis using `plt.axis`"
   ]
  },
  {
   "cell_type": "code",
   "execution_count": null,
   "metadata": {
    "collapsed": false
   },
   "outputs": [],
   "source": [
    "plt.figure()\n",
    "plt.plot( x, a ,':r',linewidth=20)\n",
    "plt.plot( x, b ,'--k')\n",
    "plt.xlabel( \"time\" )\n",
    "plt.ylabel( \"space\" )\n",
    "\n",
    "plt.title( \"Most important graph in the world\" )\n",
    "\n",
    "plt.legend( (\"blue\", \"red\") )\n",
    "\n",
    "\n",
    "plt.axis( [0, 4, -2, 3] )"
   ]
  },
  {
   "cell_type": "markdown",
   "metadata": {},
   "source": [
    "There are many other plotting functions. For example, we will use `plt.imshow()` for showing images and `plt.stem()` for plotting discretized signal"
   ]
  },
  {
   "cell_type": "code",
   "execution_count": null,
   "metadata": {
    "collapsed": false
   },
   "outputs": [],
   "source": [
    "# image\n",
    "plt.figure()\n",
    "\n",
    "data = np.outer( a, b ) # plotting the outer product of a and b\n",
    "\n",
    "plt.imshow(data)\n"
   ]
  },
  {
   "cell_type": "code",
   "execution_count": null,
   "metadata": {
    "collapsed": false
   },
   "outputs": [],
   "source": [
    "# stem plot\n",
    "plt.figure()\n",
    "plt.stem(a[::5]) # subsample by 5"
   ]
  },
  {
   "cell_type": "markdown",
   "metadata": {},
   "source": [
    "For the inner geek, there is [xkcd](https://xkcd.com/688/) styling."
   ]
  },
  {
   "cell_type": "code",
   "execution_count": null,
   "metadata": {
    "collapsed": false
   },
   "outputs": [],
   "source": [
    "plt.xkcd()\n",
    "plt.plot( x, a )\n",
    "plt.plot( x, b )\n",
    "plt.xlabel( \"time\" )\n",
    "plt.ylabel( \"space\" )\n",
    "\n",
    "plt.title( \"Most important graph in the world\" )\n",
    "\n",
    "plt.legend( (\"blue\", \"red\") )"
   ]
  },
  {
   "cell_type": "markdown",
   "metadata": {},
   "source": [
    "### <font color=purple>To turn off xkcd style plotting, restart the kernel or run the command  `plt.rcdefaults()`</font>"
   ]
  },
  {
   "cell_type": "markdown",
   "metadata": {},
   "source": [
    "## Extra Printing"
   ]
  },
  {
   "cell_type": "markdown",
   "metadata": {},
   "source": [
    "Here are some fancy ways of printing:"
   ]
  },
  {
   "cell_type": "code",
   "execution_count": null,
   "metadata": {
    "collapsed": false
   },
   "outputs": [],
   "source": [
    "print(\"There are currently %d students enrolled in EE16A.\\n\" % 565)"
   ]
  },
  {
   "cell_type": "code",
   "execution_count": null,
   "metadata": {
    "collapsed": false
   },
   "outputs": [],
   "source": [
    "print(\"The Denver Nuggets will win at least %d games this season. That's %.2f%% of their games (not counting playoffs)\" % ( 70, 70/82 * 100 ))"
   ]
  },
  {
   "cell_type": "code",
   "execution_count": null,
   "metadata": {
    "collapsed": false
   },
   "outputs": [],
   "source": [
    "print(\"Good Luck!\")"
   ]
  },
  {
   "cell_type": "markdown",
   "metadata": {
    "collapsed": true
   },
   "source": [
    "## Additional reference"
   ]
  },
  {
   "cell_type": "markdown",
   "metadata": {},
   "source": [
    "You may need additional coding knowledge during the semester. Here are some resources:\n",
    "\n",
    "- [Python docs](https://docs.python.org/3.4/reference/index.html)\n",
    "- [A basic NumPy reference](http://r.duckduckgo.com/l/?kh=-1&uddg=http%3A%2F%2Fwww.engr.ucsb.edu%2F~shell%2Fche210d%2Fnumpy.pdf)\n",
    "- [NumPy (np) docs](http://docs.scipy.org/doc/numpy/reference/)\n",
    "- [Matplotlib.pyplot (plt) docs](http://matplotlib.org/api/pyplot_api.html)\n",
    "\n",
    "Note that the tools in CS61A are useful for this course. However, using NumPy arrays and other NumPy functions will speed up you code. Reading the docs is especially recommended for this!\n"
   ]
  }
 ],
 "metadata": {
  "anaconda-cloud": {},
  "kernelspec": {
   "display_name": "Python [default]",
   "language": "python",
   "name": "python3"
  },
  "language_info": {
   "codemirror_mode": {
    "name": "ipython",
    "version": 3
   },
   "file_extension": ".py",
   "mimetype": "text/x-python",
   "name": "python",
   "nbconvert_exporter": "python",
   "pygments_lexer": "ipython3",
   "version": "3.5.2"
  }
 },
 "nbformat": 4,
 "nbformat_minor": 0
}
