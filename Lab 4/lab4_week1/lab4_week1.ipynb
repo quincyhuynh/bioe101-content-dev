{
 "cells": [
  {
   "cell_type": "markdown",
   "metadata": {
    "collapsed": true
   },
   "source": [
    "#### BioE 101 Lab 4\n",
    "\n",
    "## Objectives:\n",
    "\n",
    "- Learn about cardiac signals and EKG measurement\n",
    "\n",
    "- Apply theory of interference, CMRR, noise, and instrumentation amplifiers\n",
    "\n",
    "- Build filters for signal conditioning\n",
    "\n",
    "- Gain practical experience with soldering and protoboards\n",
    "\n",
    "- Interface conditioned analog signals with digital logic in Arduino and Python\n",
    "\n",
    "NOTE: This lab involves the use of electrodes directly coupled to skin. Please STOP\n",
    "and CALL a TA if you are uncomfortable with using these electrodes, or if you feel\n",
    "tingling/dizziness from wearing them. ALWAYS ASK if you are uncertain of a circuit\n",
    "connection before hooking up power to yourself.\n",
    "\n",
    "### Schedule and Lab Reports\n",
    "a) Week 1: Sections 1-4. Prototype an EKG amplifier on a breadboard and test it on a live human\n",
    "subject. Entire pre-lab is due at the beginning of the lab.\n",
    "\n",
    "b) Week 2: Read out your EKG data to the Arduino and get fancy for extra credit. The entire lab report is due the\n",
    "week following the lab—no lab report is due at the beginning of the second week.\n",
    "\n",
    "## 1. Lab Setup\n",
    "<li>a) In this lab exercise you will prototype your own EKG amplifier, incorporating\n",
    "many of the design concepts we’ve discussed in lecture. You will construct and\n",
    "test the circuit on a breadboard and answer the following lab questions. </li>\n",
    "<li>b) You and your partner(s) should have the following items: breadboard and\n",
    "jumper wires, AD620 instrumentation amp, LM324, 9V batteries and battery\n",
    "connectors, self-adhesive EKG electrodes, BNC cable and adaptors, alligator clip leads, prototype board. We strongly recommend that you cut and strip wires to size to keep your breadboard organized; if it is a mess of wires, it can be extremely hard to debug and the GSIs and lab assistants reserve the right to not debug your board. </li>\n",
    "<li>c) You can get all the other electronic components (resistors and capacitors) and connectors, adaptors, cables that are needed from the cabinets—look there or ask before digging around!</li>\n",
    "\n",
    "## 2. EKG Breadboard Prototyping\n",
    "<li>a) The bulk of the lab will involve constructing and testing the circuit described below and in your pre-lab. This circuit is more complicated than others we have built in lab. Follow the instructions below, don’t skip ahead, and test your circuit one portion at a time to ensure that it works. This will actually save you time!</li>\n",
    "<li>b) Pull up the datasheets for the AD620 and LM324. Find the pinout diagram. Note the little indentation on the top of the chip and make sure the chip is in the same orientation as it is in the datasheet.</li>\n",
    "<li>c) Place both ICs on the breadboard. Make sure they straddle the groove in between two rows of pins, so that the pins do not make electrical contact with each other. You will want to give yourself some space between the two ICs for the rest of the components.</li>\n",
    "<li>d) The schematic we’ve given you is typical of what you might see in a design scenario. Notice that we’ve left off the power leads going to the op-amps as well as the specific pin numbers for inputs and outputs. You’ll need to use the datasheet to figure out which pins are which. </li>\n",
    "<li>e) Wire up your battery terminals (no battery yet, just the battery connector) to the binding posts at the top of the breadboard. You need both a +9V and -9V supply, so you’ll have to figure out how to wire these together. You should have a common ground. You may want to strip a bit more of the battery terminal leads to make a good connection.</li>\n",
    "<li>f) Connect your +9V, -9V, and GND to 3 different vertical rails on your breadboard. This makes it easier to connect lots of components to these (very common) nodes.</li>\n",
    "<li>g) Connect the power leads to both chips. Connect the V+ and V- of the AD620 to your +9V and -9V rails, respectively. On the LM324 chip, all 4 op-amps share a common pair of power pins. Note that this op-amp can operate on either a single supply (V+ and GND) or a dual supply (V+ and V-). You’ll be using a dual supply, so +9V will connect to the V+ pin and -9V will connect to the GND pin. Don’t forget to wire the REF pin of the AD620 to GND.</li>\n",
    "<br></br>\n",
    "<center>\n",
    "<img src=\"http://puu.sh/tjivQ/3483116c4d.png\" align=\"center\" style=\"height:350px\" />\n",
    "</center>\n",
    "<br></br>\n",
    "\n",
    "\n",
    "<br></br>\n",
    "<center>\n",
    "<img src=\"http://puu.sh/tjiyg/04aeac4f2f.jpg\" align=\"center\" style=\"height:400px\" />\n",
    "</center>\n",
    "<br></br>\n",
    "\n",
    "**Question 1:** \n",
    "Why are we using dual supply amplifiers? What might be the problem\n",
    "with using only a positive voltage supply to amplifier an EKG signal?\n",
    "\n",
    "<li>h) Now connect the gain-setting resistor, R1, between the two R pins on the AD620.</li>\n",
    "\n",
    "<li>i) Connect the remaining resistors and capacitors between the amplifiers to create the low-pass and high-pass filter. NOTE: You can use any two op-amps on the LM324 that you want; they are all identical.</li>\n",
    "\n",
    "<li>**j) Get a GSI to check off your circuit before connecting the batteries.**</li>\n",
    "\n",
    "<li>k) Now you’re ready to test your circuit. Plug in the batteries. Using the function generator, apply a 50mV test signal between the inputs of your instrumentation amp. You can use small pieces of wire to plug into the breadboard and then use the BNC-to-banana adapter to connect to the function generator. Use the tee adapter to connect the function generator to both scope channel 1 and your circuit. Connect the scope probe to channel 2 of the scope and use this to measure the signal at the output of the instrumentation amp (pin 6)—not the output of the entire circuit. This will let you see the input signal (from the function generator) and the output signal (from the instrumentation amp) simultaneously.</li>\n",
    "\n",
    "**Question 2: **What is the gain of your instrumentation amp (and ONLY the in-amp) at a frequency of 10 Hz? How does it change as you increase the frequency to 1 MHz? Why? At what frequency does the amp go to a gain of 1 (i.e. output is same voltage as input)?\n"
   ]
  },
  {
   "cell_type": "markdown",
   "metadata": {},
   "source": [
    "<li>l) Now connect the scope to the output of the second stage (i.e. the high pass filter).</li>\n",
    "\n",
    "**Question 3:**\n",
    "What is the gain of these first two stages together at 10 Hz? Start decreasing\n",
    "the frequency. At what frequency does the gain start to drop? What type of filter is this?\n"
   ]
  },
  {
   "cell_type": "markdown",
   "metadata": {},
   "source": [
    "<li>m) Finally, connect the scope to the output of the third stage (i.e. the low pass filter),\n",
    "so you’re looking at the input/output behavior of your entire circuit.</li>\n",
    "\n",
    "**Question 4:** What is the overall gain at 10 Hz? Is your signal getting distorted and if so,why? If you increase the frequency, at what frequency does the gain start to drop? What\n",
    "type of filter is this? What’s the overall bandwidth of your system?\n"
   ]
  },
  {
   "cell_type": "markdown",
   "metadata": {},
   "source": [
    "<li>**n) Show your results to a GSI before connecting the EKG leads.**</li>\n",
    "\n",
    "## 3. Testing your EKG on a live human subject\n",
    "\n",
    "<li>a) Now you will measure your own EKG! Pick someone from your group\n",
    "(requirement: they must have a pulse) and place two self-adhesive Ag/AgCl\n",
    "electrodes on the underside of their wrists. Connect these leads to the differential\n",
    "input of your circuit using alligator leads. Tune the scope so you can comfortably\n",
    "see a few heartbeats.</li>\n",
    "\n",
    "**Question 5: **\n",
    "What is the amplitude of the QRS complex? Freeze the scope display and\n",
    "use the cursors to measure the period. What is this person’s resting heart rate?"
   ]
  },
  {
   "cell_type": "markdown",
   "metadata": {},
   "source": [
    "<li>b) Your amplifier is very sensitive because of its high gain and high input\n",
    "impedance. We will now investigate a few different kinds of interference.</li>\n",
    "\n",
    "**Question 6:**\n",
    "What happens when a partner in the group moves their hands in the\n",
    "vicinity of the electrodes? What happens when the “patient” moves? These two kinds of\n",
    "interference sources will look a bit different. Speculate where each comes from.\n"
   ]
  },
  {
   "cell_type": "markdown",
   "metadata": {},
   "source": [
    "**Question 7:**\n",
    "You should see plenty of 60 Hz interference in your signal. What is the\n",
    "peak-to-peak amplitude of this interference? Now have the “patient” connect a third\n",
    "reference electrode from their back to ground and measure the peak-to-peak 60 Hz\n",
    "interference? Did it decrease?\n"
   ]
  },
  {
   "cell_type": "markdown",
   "metadata": {},
   "source": [
    "**Question 8:**\n",
    "There is also a high frequency interference present in your signal. Tune\n",
    "your scope to the 10ns/div time scale and you should see something that looks very\n",
    "periodic. What is the frequency of this signal (try to estimate within 0.1 MHz)? What do\n",
    "you think this could be? Why would we see such a high frequency interference when\n",
    "we have a low pass filter in our circuit?"
   ]
  },
  {
   "cell_type": "markdown",
   "metadata": {},
   "source": [
    "\n"
   ]
  }
 ],
 "metadata": {
  "anaconda-cloud": {},
  "kernelspec": {
   "display_name": "Python 3",
   "language": "python",
   "name": "python3"
  },
  "language_info": {
   "codemirror_mode": {
    "name": "ipython",
    "version": 3
   },
   "file_extension": ".py",
   "mimetype": "text/x-python",
   "name": "python",
   "nbconvert_exporter": "python",
   "pygments_lexer": "ipython3",
   "version": "3.6.4"
  }
 },
 "nbformat": 4,
 "nbformat_minor": 1
}
