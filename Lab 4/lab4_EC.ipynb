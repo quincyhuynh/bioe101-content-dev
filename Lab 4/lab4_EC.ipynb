{
 "cells": [
  {
   "cell_type": "markdown",
   "metadata": {},
   "source": [
    "# BioE 101 Lab 4 - Build an EKG - Week 1\n",
    "\n",
    "## Objectives:\n",
    "\n",
    "- Learn about cardiac signals and EKG measurement\n",
    "\n",
    "- Apply theory of interference, CMRR, noise, and instrumentation amplifiers\n",
    "\n",
    "- Build filters for signal conditioning\n",
    "\n",
    "- Gain practical experience with soldering and protoboards\n",
    "\n",
    "- Interface conditioned analog signals with digital logic in Arduino and Python\n",
    "\n",
    "**<span style=\"color:red\">NOTE: This lab involves the use of electrodes directly coupled to skin. Please STOP\n",
    "and CALL a TA over if you are uncomfortable with using these electrodes, or if you feel\n",
    "tingling/dizziness from wearing them. ALWAYS ASK if you are uncertain of a circuit\n",
    "connection before hooking up the electrodes to yourself.</span>**\n",
    "\n",
    "## Schedule and Lab Reports\n",
    "-  Week 1: Prototype an EKG amplifier on a breadboard and test it on a live human\n",
    "subject.\n",
    "\n",
    "- Week 2: Read out your EKG data to the Arduino and get fancy for extra credit. The entire lab report is due the\n",
    "week following the lab — no lab report is due at the beginning of the second week."
   ]
  },
  {
   "cell_type": "markdown",
   "metadata": {},
   "source": [
    "## 5. Arduino/Python Heart Monitor\n",
    "- Retrieve your breakboard EKG circuit from last week, and hook up an Arduino Uno to a lab or personal computer via USB\n",
    "- Upload the send_serial.ino code onto the Arduino using the IDE, as in previous labs, and note the COM port\n",
    "- Following the same setup as last week, connect two 9V batteries to your circuit and three leads to an (alive) lab partner. The optimal setup is two signal electrodes above and below the chest, and one reference electrode on the right ankle.\n",
    "- Verify that your EKG is working by hooking up the output to an oscilloscope and observing the waveform\n",
    "- Now we will use the Arduino to digitize the EKG signal. Disconnect the leads from your lab partner, disconnect the oscilloscope probes, and connect the output of your amplifier to Arduino pin A0, and the ground of your circuit to the 3.3V pin of the Arduino board.\n",
    "**Before reconnecting the EKG leads, be sure that the your circuit GROUND is only connected to the 3.3V Arduino pin, and that any ground connection to an oscilloscope or power supply is disconnected (otherwise you risk damaging the Arduino).**\n",
    "- Reconnect the EKG leads to the electrodes and run the following code to acquire the EKG signal. Be sure to insert the correct COM port.\n"
   ]
  },
  {
   "cell_type": "code",
   "execution_count": 16,
   "metadata": {},
   "outputs": [],
   "source": [
    "# allows plots to be plotted right below the cell when run\n",
    "%matplotlib inline \n",
    "import serial # the library for reading from serial com ports\n",
    "import numpy as np # naming convention for numpy library\n",
    "import matplotlib.pyplot as plt # naming convention for matplotlib\n",
    "from scipy.fftpack import fft, ifft # import discrete fourier transform and its inverse\n",
    "from scipy import signal"
   ]
  },
  {
   "cell_type": "code",
   "execution_count": 17,
   "metadata": {},
   "outputs": [],
   "source": [
    "def sample_arduino():\n",
    "    # preamble to set up serial communications\n",
    "    device = \"/dev/tty.usbmodem144320\" # com port of Arduino <- CHANGE THIS TO THE ONE YOU FOUND\n",
    "    baud = 115200\n",
    "    ser = serial.Serial(device, baud, timeout=10)\n",
    "\n",
    "    # read in every line of serial code and throw away corrupt data\n",
    "    def read_serial_data(N):\n",
    "        raw_data = []\n",
    "        while (len(raw_data) < N+10): \n",
    "            data = ser.readline()\n",
    "            raw_data.append(data)\n",
    "        data = []\n",
    "        for i in raw_data:\n",
    "            try:\n",
    "                data.append(float(i))\n",
    "            except:\n",
    "                continue\n",
    "        return data\n",
    "    raw_data = read_serial_data(3000) # <- Adjust this line to read in more/less data\n",
    "    ser.close()\n",
    "    return raw_data"
   ]
  },
  {
   "cell_type": "code",
   "execution_count": 18,
   "metadata": {},
   "outputs": [
    {
     "data": {
      "text/plain": [
       "[<matplotlib.lines.Line2D at 0x1c207aacf8>]"
      ]
     },
     "execution_count": 18,
     "metadata": {},
     "output_type": "execute_result"
    },
    {
     "data": {
      "image/png": "[encoded data removed]",
      "text/plain": [
       "<matplotlib.figure.Figure at 0x1c207559e8>"
      ]
     },
     "metadata": {},
     "output_type": "display_data"
    }
   ],
   "source": [
    "signal = sample_arduino()\n",
    "plt.plot(signal) # change the indices to zoom in/out in time"
   ]
  },
  {
   "cell_type": "markdown",
   "metadata": {},
   "source": [
    "**Question 9**: Why are we connecting the circuit ground to the 3.3V pin of the Arduino, as opposed to the GND pin? Hint: disconnect the EKG leads from your lab partner, connect circuit ground to the GND pin, and reconnect the leads. How does your EKG signal change?\n",
    "\n",
    "Now, run the code below in order to plot and analyze your EKG spectrum in fourier space:"
   ]
  },
  {
   "cell_type": "code",
   "execution_count": 19,
   "metadata": {},
   "outputs": [
    {
     "data": {
      "text/plain": [
       "[<matplotlib.lines.Line2D at 0x1c20ee6240>]"
      ]
     },
     "execution_count": 19,
     "metadata": {},
     "output_type": "execute_result"
    },
    {
     "data": {
      "image/png": "[encoded data removed]",
      "text/plain": [
       "<matplotlib.figure.Figure at 0x1c20789320>"
      ]
     },
     "metadata": {},
     "output_type": "display_data"
    }
   ],
   "source": [
    "dft = fft(signal) # calculate fourier transform\n",
    "fs = 200 # SAMPLING RATE, needs to match send_serial.ino code\n",
    "N = len(dft) # length of discrete fourier transform\n",
    "freqs = [i*fs/N for i in range(N)] # convert from dft frequencies to Hz\n",
    "plt.plot(freqs[2:2000], np.abs(dft[2:2000])) # change the indices to zoom in/out in frequency"
   ]
  },
  {
   "cell_type": "markdown",
   "metadata": {},
   "source": [
    "**Question 10**: Save a plot of your EKG signal and its discrete fourier transform. Based on the bandwidth of your signal, what minimum sampling rate should you be using? Decrease the sampling rate within the send_serial.ino and dft code. At what point do you begin to see aliasing, and does this match your prediction?"
   ]
  },
  {
   "cell_type": "markdown",
   "metadata": {},
   "source": [
    "Now you're able to sample a chunk of data from the Arduino's analog inputs at a time and process it. This is cool, but we can do better! Similar to the Audio Spectrum Analyzer, let's view the spectrum of the Arduino's analog input in real time. Run the cell below to run a script that will generate a spectrum analyzer for the Arduino. Leave it running as you do Question 5 and 6. \n",
    "\n",
    "#### Before running the cell, open up the python file in a text editor of your choice and change the \"device = \" line to include the correct COM or /dev/ port of your Arduino."
   ]
  },
  {
   "cell_type": "code",
   "execution_count": 1,
   "metadata": {},
   "outputs": [
    {
     "name": "stderr",
     "output_type": "stream",
     "text": [
      "ERROR:root:File `'serial_spectrumQT.py'` not found.\n"
     ]
    }
   ],
   "source": [
    "%matplotlib tk\n",
    "%run serial_spectrumQT.py"
   ]
  },
  {
   "cell_type": "markdown",
   "metadata": {},
   "source": [
    "## 6. Extra Credit \n",
    "\n",
    "Choose any combination of the 3 extra credit options below. Maximum total extra credit is 20pt. \n",
    "\n",
    "- **Extra credit: Hardware component** \n",
    "\n",
    "-- Solder your entire EKG circuit onto a protoboard for more robust performance and decreased interference. Ask GSI's for soldering guidance and equipment (wires, headers, battery connectors, etc). Test your soldered circuit using an oscilloscope following directions from week 1. Once your circuit is approved by a GSI, record and save your EKG signal using the Arduino. What qualitative differences do you see in signal quality (noise, interference, motion artifacts) between your soldered circuit and the breadboard circuit? (+10 points) \n",
    "\n",
    "- ** Extra credit: Software component** \n",
    "\n",
    "Build a heart monitor application in python that has the following capabilitie(s):\n",
    "\n",
    "   -- Design and implement a software band-pass filter to reduce interference and motion artifacts in the EKG signal. Compare your EKG signal before and after filtering. Were you able to reduce interference and/or motion artifacts? Did the filtering affect the shape of your waveform? (+10 points)\n",
    "\n",
    "   -- Design and implement an algorithm to detect heart rate. Hint: some potential strategies include thresholding or autocorrelation. Measure and record the heart rate of a lab partner before and after doing 10-20 jumping jacks! (+10 points)\n",
    "\n",
    "\n",
    "**To claim your extra credit, include all code and output graphs in your final lab report. Also take a photo of your soldered heart monitor and include it in your final lab report. **"
   ]
  }
 ],
 "metadata": {
  "kernelspec": {
   "display_name": "Python 3",
   "language": "python",
   "name": "python3"
  },
  "language_info": {
   "codemirror_mode": {
    "name": "ipython",
    "version": 3
   },
   "file_extension": ".py",
   "mimetype": "text/x-python",
   "name": "python",
   "nbconvert_exporter": "python",
   "pygments_lexer": "ipython3",
   "version": "3.6.4"
  }
 },
 "nbformat": 4,
 "nbformat_minor": 1
}
