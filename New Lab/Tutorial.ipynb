{
 "cells": [
  {
   "cell_type": "markdown",
   "metadata": {},
   "source": [
    "# Eagle Lab\n",
    "\n",
    "Abhinav Koppu, Ashna Jasuja\n",
    "    "
   ]
  },
  {
   "cell_type": "markdown",
   "metadata": {},
   "source": [
    "## Introduction\n",
    "\n"
   ]
  },
  {
   "cell_type": "markdown",
   "metadata": {},
   "source": [
    "### Part 1 \n",
    "\n",
    "Getting Started\n",
    "1. \n",
    "2. \n",
    "3. \n",
    "4. Right click on Projects folder and select new project. Name it LPF\n",
    "5. \n",
    "\n",
    "Creating the Schematic\n",
    "1.  \n",
    "2. \n",
    "    a. Click on 'add part' icon\n",
    "    b. \n",
    "    c. \n",
    "    d. \n",
    "    e. \n",
    "    f. Search \"*R-US_R0603*\" and press ok. Add 2 resistors.\n",
    "    g. \n",
    "    h. In the Add Part window, search for \"*C-EUC0603*\" and press ok. Place the part as per the image. Rotate to match the image.\n",
    "    i. \n",
    "3. Your schematic should match the image.\n",
    "4. Select \"Net\" tool.\n",
    "5. Draw wires between all relevant terminals as per the image. Note: double clikc to end the current Net. Select the junction tool to place junctions between wires. Automatic Junctions will appear on Nets that overlap.\n",
    "6. Now add power and data ports\n",
    "    a. In the Add dialog box, search for GND, and click the one under supply2 and press ok. Add one under positive pin and one under an empty space to connect to the power supply later.\n",
    "    b. Place \n",
    "    c. \n",
    "    d. Search *MA05-1* and add it near the three floating part symbols. Look at image for correct placing.\n",
    "7. Complete wirings as per image\n",
    "8. \n",
    "9. \n",
    "10. Run Electrical Rule Check (ERC). There should be no errors, but 3 warnings may appear, which you can approve to dismiss them. \n",
    "11. \n",
    "    "
   ]
  },
  {
   "cell_type": "markdown",
   "metadata": {},
   "source": [
    "### Part 2\n",
    "\n",
    "Creating the PCB\n",
    "\n",
    "1. \n",
    "2. \n",
    "3. \n",
    "4. \n",
    "5. \n",
    "6. \n",
    "7. \n",
    "8. \n",
    "9. In order to move the labels of each part around, first 'Reposition' the part then 'Move' the label.\n",
    "10. \n",
    "11. \n"
   ]
  },
  {
   "cell_type": "code",
   "execution_count": null,
   "metadata": {
    "collapsed": true
   },
   "outputs": [],
   "source": []
  }
 ],
 "metadata": {
  "kernelspec": {
   "display_name": "Python 3",
   "language": "python",
   "name": "python3"
  },
  "language_info": {
   "codemirror_mode": {
    "name": "ipython",
    "version": 3
   },
   "file_extension": ".py",
   "mimetype": "text/x-python",
   "name": "python",
   "nbconvert_exporter": "python",
   "pygments_lexer": "ipython3",
   "version": "3.6.3"
  }
 },
 "nbformat": 4,
 "nbformat_minor": 2
}
