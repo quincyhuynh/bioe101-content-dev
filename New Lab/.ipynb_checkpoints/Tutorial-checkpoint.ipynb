{
 "cells": [
  {
   "cell_type": "markdown",
   "metadata": {},
   "source": [
    "# EAGLE PCB Lab\n",
    "\n",
    "Created by: Abhinav Koppu, Ashna Jasuja <br>\n",
    "Modified from Autodesk Documentation: Step-by-step Tutorial "
   ]
  },
  {
   "cell_type": "markdown",
   "metadata": {},
   "source": [
    "## Part 1 \n",
    "\n",
    "In this part of the lab, you will be creating a PCB for a circuit that you must be familiar with by now, the low-pass filter!\n",
    "\n",
    "<img src=\"lowpassfilter.png\" alt=\"Drawing\" style=\"width: 400px;\"/>\n",
    "<center>(https://en.wikipedia.org/wiki/Low-pass_filter)</center>\n",
    "\n",
    "\n",
    "### Getting Started:\n",
    "1. You should already have EAGLE downloaded. Start the program, and when it asks if you would like to create a directory, click Yes.\n",
    "2. Right click on Projects folder and select **New Project**. Name it **LPF**. \n",
    "3. Right click on the LPF project folder and select **New -> Schematic**.\n",
    "\n",
    "### Creating the Schematic:\n",
    "1.  Select **File -> Save** and save the schematic as **LPF Schematic.sch**\n",
    "2. First we will add the parts we need. In this case, 2 resistors, a capacitor, and an opamp. We will use all 0603 sized resistos and capacitors, and a through hold DIP (Dual Inline Package) opamp.\n",
    "    * Click on **Add Part** icon\n",
    "    * Start by adding the opamp, type **&ast;LM&ast;741&ast;** into the search box and press Enter.\n",
    "    * Select the **DIL08** version of the component and click **OK**. Click on the schematic to place the part. Press the right mouse button twice to rotate the part and then click the center mouse button once to mirror the part. This will orient the positive and negative terminals of the gate properly.\n",
    "    * Press **ESC** to return to the **Add** dialog.\n",
    "    * In the **Add** dialog box, search **&ast;R-US_R0603&ast;** and press **OK**. Add 2 resistors.\n",
    "    * Press **ESC** again to return to the **Add** dialog box.\n",
    "    * In the **Add Part** window, search for **&ast;C-EUC0603&ast;** and press **OK**. Place the part as per the image. Rotate to match the image.\n",
    "    * Press **ESC** twice to exit **Add** mode.\n",
    "\n",
    "    <img src=\"schematic.png\" alt=\"Drawing\" style=\"width: 400px;\"/> \n",
    "    \n",
    "3. Your schematic should match the image above.\n",
    "4. Select **Net** tool.\n",
    "5. Draw wires between all relevant terminals as per the image. Note: double click to end the current **Net**. Select the **Junction** tool to place junctions between wires. Automatic junctions will appear on Nets that overlap.\n",
    "6. Now add power and data ports.\n",
    "    * In the **Add** dialog box, search for **GND**, click the one under **supply2** and press **OK**. Add one under the positive pin of the opamp and one in an empty space to the left of the opamp (it will connect to the power supply later).\n",
    "    * Place **supply2 -> +15V** and **supply2 -> -15V** both onto the opamp and also near the previously placed ground.\n",
    "    * Now we add input/output plugs for the various signals needed by the board.\n",
    "    * Search **&ast;MA05-1&ast;** and add it near the three floating part symbols. Look at image for correct placing.\n",
    "7. Complete wirings as per image below.\n",
    "\n",
    "    <img src=\"schematic2.png\" alt=\"Drawing\" style=\"width: 400px;\"/>\n",
    "    \n",
    "8. Now we will assign component values. Click on the **Value** icon. Click on resistors R1 and R2, assigning them values 1k and 10k respectively. Then click on capacitor C1 and assign it a value 2uF.\n",
    "9. Run **Electrical Rule Check (ERC)**. There should be no errors, but 3 warnings may appear, which you can approve to dismiss them. \n",
    "10. Save your schematic! Then click **File -> Switch to Board** to begin creating the PCB. When asked if you would like to create the **LPFSchematic.brd** press Yes.\n",
    "    "
   ]
  },
  {
   "cell_type": "markdown",
   "metadata": {},
   "source": [
    "## Part 2\n",
    "\n",
    "### Creating the PCB:\n",
    "\n",
    "1. When asked if you would like to create the **LPF Schematic.brd** file, click **Yes**\n",
    "2. You will now see a blank PCB board, along with the parts from your schematic in the lower left.\n",
    "    * The parts don't look the same as the one from your schematic! These are the \"footprints\" associated with the components from the schematic. A footprint is the physical set of pin holes and copper areas that components of a particular side need to be soldered/clipped/connected to. \n",
    "3. We will begin by positioning the footprints on the board through a combination of **ONLY** rotation and movement. Mirroring a footprint is **NOT** allowed unless you are putting it on the opposite side of the board. This part of the lab is up to you. There are more guidelines below in the \"Tips\" section in the appendix of this lab, but the important factors to consider when making your design are: \n",
    "    * Make the design compact\n",
    "    * Keep in mind that parts exist in 3 dimensions! Just because the footprints fit near each other doesn't mean that parts necessarily will.\n",
    "    * Lay out the design out logically now to minimize errors later on.\n",
    "    * Try to minimize the dark yellow \"connection guidelins\" cross. Crossing traces means putting vias through the board which is expensive and takes up space\n",
    "4. Component footprints can be positioned using **Move** and **Rotate**. Remember to **NOT** use mirror to position your footprints. \n",
    "5. When you are done positioning your components, use the **Delete** command to delete the existing board outline. Once the traces are laid down a new outline can be created to minimize the necessary surface area of the board. PCBs are priced proportionally to the number of holes in them and their total surface area, so saving space saves money!\n",
    "6. With your layout completed (should look like the image below), it's now time to add the traces! Select the **Route** tool.\n",
    "    <img src=\"board1.png\" alt=\"Drawing\" style=\"width: 400px;\"/>\n",
    "7. Make sure you are working in the side of the board that you want. Layers (top or bottom normally) can be selected in the layer dropdown. Make sure you are workin on the **Top** layer. \n",
    "8. To add traces to the board, first click on a connected pad, then click to lay the trace and finally click on the ending pad indicated by the dark yellow line. Remember:\n",
    "    * Keep the traces as short as possible! Longer traces add resistance, thermal noise, and can also act as antennae.\n",
    "    * Avoid 90 degree corners, 45 degress is preferred.\n",
    "    * Avoid running two traces in parallel on top of each other on opposite sides of the board. This can cause capacitive coupling between the traces.\n",
    "9. In order to move the labels of each part around, first 'Reposition' the part then 'Move' the label.\n",
    "10. The final step is to arrive at the final board outline, which in this case will be a simple square. Select the **Dimension** layer from the layer dropdown. Then, select the **Line** tool and draw the outline of the PCB board. Make sure to leave a bit of space around the edge of the board. \n",
    "11. Use the **Design Rules Check** to ensure that there are no overlapping traces or other mechanical problems.\n",
    "12. Your final board design should look something like the image below! (Note that it doesn't have to look exactly like it as everyone's designs will be different)\n",
    "    <img src=\"board2.png\" alt=\"Drawing\" style=\"width: 400px;\"/>\n"
   ]
  },
  {
   "cell_type": "markdown",
   "metadata": {},
   "source": [
    "## Part 3\n",
    "### Create your own PCB!\n",
    "\n",
    "Now that you know how to use EAGLE to transform a simple circuit into a PCB Model, you are going to now try to make a model of another simple circuit on your own! This circuit is a bandpass filter (and if you notice, it is very similar to the low-pass filter you created above). Go through and make the schematic and associated PCB with the circuit using EAGLE. \n",
    "\n",
    "<img src=\"bandpassfilter.gif\" alt=\"Band Pass Filter\" style=\"width: 400px;\"/>\n",
    "<center>(https://www.electronics-tutorials.ws/filter/filter_7.html)</center>"
   ]
  },
  {
   "cell_type": "markdown",
   "metadata": {},
   "source": [
    "## Part 4\n",
    "### Creating a physical PCB\n",
    "\n"
   ]
  },
  {
   "cell_type": "markdown",
   "metadata": {
    "collapsed": true
   },
   "source": [
    "## Appendix: PCB Design Tips\n",
    "\n",
    "### EAGLE Software \n",
    "* If you have trouble selecting a component to move, rotate or mirror, make sure you highlight the component by selecting its associated \"crosshair\". Zooming into the component might be helpful to reveal the \"crosshair\" and would make it easier to select the component\n",
    "* If the software display looks too large or isn't scaled to your screen properly, go to **Options**, then **User Interface**, and uncheck both **Enable High DPI Scaling** and **Enable Auto Screen Scale Factor**. Note that this will make the software display fit your screen better, but the text and other images will look smaller.\n",
    "\n",
    "### Component Layout\n",
    "* Try to lay out the components in a logical way, grouping components and sometimes making the PCB topography reflect the topography of the schematic\n",
    "* Try to minimize the total surface area required\n",
    "* Try to minimize the number of crosses in the ratsnest (dark-yellow lines indicating unrouted connections)\n",
    "* Make sure that not only do the footprints fit around each other, but the 3D structures of the components will not intersect.\n",
    "* **DO NOT** mirror a component unless you are putting it on the other side of the board.\n",
    "\n",
    "### Trace Routing\n",
    "* Try to minimize trace lengths. Long traces add more resistive losses, more thermal noise, and can act as an antenna.\n",
    "* Do not run two parallel traces on opposing sides of the board on top of each other, they can become capacitively coupled.\n",
    "* Avoid 90° angles and T-intersection. Instead always go around corners and merge traces at 45 degree angles\n",
    "* Ensure that traces are wide enough to carry their current. Trace width calculators are widely available on the internet. This is especially important for power traces.\n",
    "* Make sure traces are sufficiently spaced, generally at least one trace-width apart.\n",
    "* Try to ‘balance’ traces on differential-type devices as much as possible.\n",
    "* If you have room on your circuit, use a ground plane for the ground instead of a trace\n",
    "\n"
   ]
  },
  {
   "cell_type": "markdown",
   "metadata": {},
   "source": [
    "## References\n",
    "\n",
    "* Tutorial:  http://dl36mmdz94630.cloudfront.net/uploads/eagle_resources/files/000/002/278/original/step-by-step_tutorial.pdf?1484967932\n"
   ]
  },
  {
   "cell_type": "code",
   "execution_count": null,
   "metadata": {
    "collapsed": true
   },
   "outputs": [],
   "source": []
  }
 ],
 "metadata": {
  "kernelspec": {
   "display_name": "Python 3",
   "language": "python",
   "name": "python3"
  },
  "language_info": {
   "codemirror_mode": {
    "name": "ipython",
    "version": 3
   },
   "file_extension": ".py",
   "mimetype": "text/x-python",
   "name": "python",
   "nbconvert_exporter": "python",
   "pygments_lexer": "ipython3",
   "version": "3.7.0"
  }
 },
 "nbformat": 4,
 "nbformat_minor": 2
}
